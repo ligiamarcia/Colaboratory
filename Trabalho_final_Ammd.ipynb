{
  "nbformat": 4,
  "nbformat_minor": 0,
  "metadata": {
    "colab": {
      "name": "Trabalho_final_Ammd.ipynb",
      "provenance": [],
      "collapsed_sections": [
        "yR124h3ESVsR",
        "C2J8-KSPOlIK"
      ],
      "include_colab_link": true
    },
    "kernelspec": {
      "name": "python3",
      "display_name": "Python 3"
    }
  },
  "cells": [
    {
      "cell_type": "markdown",
      "metadata": {
        "id": "view-in-github",
        "colab_type": "text"
      },
      "source": [
        "<a href=\"https://colab.research.google.com/github/ligiamarcia/Colaboratory/blob/main/Trabalho_final_Ammd.ipynb\" target=\"_parent\"><img src=\"https://colab.research.google.com/assets/colab-badge.svg\" alt=\"Open In Colab\"/></a>"
      ]
    },
    {
      "cell_type": "markdown",
      "metadata": {
        "id": "A6CKBA7XSfNm"
      },
      "source": [
        "# Trabalho final da disciplina de AMMD - ERE 2020"
      ]
    },
    {
      "cell_type": "markdown",
      "metadata": {
        "id": "YmrxXE6mStnA"
      },
      "source": [
        "**Disciplina:** Aprendizagem de Máquina e Mineração de Dados ERE 2020\n",
        "\n",
        "**Professor Dr Rafael Giusti** \n",
        "\n",
        "**Aluna:** \n",
        "\n",
        "*   Lígia Nascimento, Matrícula: 21752477\n",
        "\n",
        "\n",
        "            "
      ]
    },
    {
      "cell_type": "markdown",
      "metadata": {
        "id": "Scu0yVujRGdR"
      },
      "source": [
        "Objetivo:mostrar como funciona os modelos de classificação Árvores (algoritmo ID3) e Bayesianos (O algoritmo de Naive Bayes)"
      ]
    },
    {
      "cell_type": "markdown",
      "metadata": {
        "id": "qyjfR3q_UXLg"
      },
      "source": [
        "A base de dados escolhida foi o \"weather\", já estudado em sala de aula e que agora implementamos e explicamos os métodos tradicionais: Árvores (ID3) e Bayesiano (Naive Bayes). A dupla usou técnicas aprendidas durante as aulas ministradas na disciplina e pesquisamos sobre alguns pontos que consideramos interessantes aplicar para a melhor fixação do qprendizado."
      ]
    },
    {
      "cell_type": "markdown",
      "metadata": {
        "id": "yR124h3ESVsR"
      },
      "source": [
        "# Preparação"
      ]
    },
    {
      "cell_type": "code",
      "metadata": {
        "id": "FOqTMqdHMYe8"
      },
      "source": [
        "import pandas as pd\n",
        "import numpy as np\n",
        "import scipy.stats as stats\n",
        "import matplotlib.pyplot as plt\n",
        "import pydot\n",
        "\n",
        "%matplotlib inline\n"
      ],
      "execution_count": null,
      "outputs": []
    },
    {
      "cell_type": "code",
      "metadata": {
        "id": "u9GedSUaNvfF"
      },
      "source": [
        "from IPython.display import Image, display, display_html\n",
        "\n",
        "def view_pydot(pdot):\n",
        "    plt = Image(pdot.create_png())\n",
        "    display(plt)\n",
        "\n",
        "import networkx as nx\n",
        "\n",
        "def plotg(g):\n",
        "    to_pdot = nx.drawing.nx_pydot.to_pydot\n",
        "    pdot = to_pdot(g)\n",
        "    view_pydot(pdot)\n",
        "    \n",
        "def display_side_by_side(*args):\n",
        "    html_str=''\n",
        "    for df in args:\n",
        "        html_str+=df.to_html()\n",
        "    display_html(html_str.replace('table','table style=\"display:inline\"'), raw=True)"
      ],
      "execution_count": null,
      "outputs": []
    },
    {
      "cell_type": "code",
      "metadata": {
        "id": "LUZlhmCOOchn"
      },
      "source": [
        ""
      ],
      "execution_count": null,
      "outputs": []
    },
    {
      "cell_type": "code",
      "metadata": {
        "id": "nccjWjLTNvfG"
      },
      "source": [
        "class DTdrawing:\n",
        "    def __init__(self, target):\n",
        "        self.id = 0\n",
        "        self.g = []\n",
        "        self.target = target\n",
        "    \n",
        "    def _node_name(self, ident, dct):\n",
        "        return str(ident) + '. jogar = ' + (list(dct.keys())[0] if len(dct) == 1 else '?')\n",
        "\n",
        "    def _draw(self, df, node, vnode = None, subnode = None):\n",
        "        if vnode is not None:\n",
        "            df = df[df[node]==vnode]\n",
        "            node = subnode\n",
        "            for n in self.g:\n",
        "                if n[2]['label'] == vnode:\n",
        "                    n[1] = subnode\n",
        "        labels = df[node].value_counts().to_dict().keys()\n",
        "        subnodes = [self._node_name(self.id + i, df[df[node]==l][self.target].value_counts().to_dict()) \n",
        "                    for i, l in enumerate(labels)]\n",
        "        self.id += len(subnodes)\n",
        "        n2n = dict(list(zip(labels, subnodes)))\n",
        "        self.g = self.g + [[node, n2n[n], {'label': n}] for n in n2n]\n",
        "        G = nx.DiGraph(self.g)\n",
        "        plotg(G)\n",
        "    \n",
        "    def __call__(self, *args):\n",
        "        if len(args) == 2:\n",
        "            self._draw(df = args[0], node = args[1])\n",
        "        else:\n",
        "            self._draw(df = args[0], node = args[1], \n",
        "                      vnode = args[2], subnode = args[3])\n",
        "    \n",
        "dtdraw = DTdrawing('jogar')"
      ],
      "execution_count": null,
      "outputs": []
    },
    {
      "cell_type": "code",
      "metadata": {
        "id": "H4T1fqSCOhhl"
      },
      "source": [
        ""
      ],
      "execution_count": null,
      "outputs": []
    },
    {
      "cell_type": "code",
      "metadata": {
        "id": "pVjnGoF1NvfG"
      },
      "source": [
        "from collections.abc import MutableMapping\n",
        "\n",
        "class CondProbTable(MutableMapping):\n",
        "    \"\"\"Conditional probabily table represented as a dictionary of dictionaries.\n",
        "    If P is a CondProbTable, P['A|B'] is the same as P['A']['B'].\"\"\"\n",
        "\n",
        "    def __init__(self, *args, **kwargs):\n",
        "        self.store = dict()\n",
        "        self._update(dict(*args, **kwargs))\n",
        "\n",
        "    def __getitem__(self, key):\n",
        "        if '|' in key:\n",
        "            [key1, key2] = key.split('|')\n",
        "            return self.store[key1][key2]\n",
        "        else:\n",
        "            return self.store[key][key]\n",
        "\n",
        "    def __setitem__(self, key, value):\n",
        "        if '|' in key:\n",
        "            [key1, key2] = key.split('|')\n",
        "            if key1 not in self.store:\n",
        "                self.store[key1] = dict()\n",
        "            self.store[key1][key2] = value\n",
        "        elif type(value) is not dict:\n",
        "            if key not in self.store:\n",
        "                self.store[key] = dict()\n",
        "            self.store[key][key] = value\n",
        "        else:\n",
        "            self.store[key] = value\n",
        "\n",
        "    def __delitem__(self, key):\n",
        "        del self.store[key]\n",
        "\n",
        "    def __iter__(self):\n",
        "        return iter(self.store)\n",
        "    \n",
        "    def __len__(self):\n",
        "        return len(self.store)\n",
        "    \n",
        "    def __repr__(self):\n",
        "        dct = self.store.__repr__()\n",
        "        return '%s(%s)' % (type(self).__name__, dct)\n",
        "    \n",
        "    def _update(self, dct):\n",
        "        self.update(dct)\n",
        "\n",
        "def dist_conjunta(A, B, normalize = False, laplace = 0, prev = None):\n",
        "    # get crosstab\n",
        "    ct = pd.crosstab(A, B)\n",
        "    # applies Laplace's smoothing technique\n",
        "    ct = ct + laplace\n",
        "    # normlize columns\n",
        "    if normalize:\n",
        "        for c in ct:\n",
        "            ct[c] = ct[c]/ct[c].sum()\n",
        "    # rename cols and index so that variable name includes \"var=\"\n",
        "    ct.rename(columns = dict(zip(ct.columns, [B.name + '=' + c for c in ct.columns])), inplace = True)\n",
        "    ct.index = [A.name + '=' + c for c in ct.index]\n",
        "    # show table\n",
        "    display(ct)\n",
        "    # return CPT a dictionary so that it is easier to access P(A|B)\n",
        "    if prev is None:\n",
        "        return CondProbTable(ct.T.to_dict())\n",
        "    else:\n",
        "        prev._update(ct.T.to_dict())\n",
        "        return prev"
      ],
      "execution_count": null,
      "outputs": []
    },
    {
      "cell_type": "markdown",
      "metadata": {
        "id": "C2J8-KSPOlIK"
      },
      "source": [
        "# Dados"
      ]
    },
    {
      "cell_type": "code",
      "metadata": {
        "id": "FyiUBaj3NNxH"
      },
      "source": [
        ""
      ],
      "execution_count": null,
      "outputs": []
    },
    {
      "cell_type": "code",
      "metadata": {
        "id": "d3Ri7oCXNvfH"
      },
      "source": [
        "weather = {'ceu': ['ensolarado', 'ensolarado', 'nublado', 'chuvoso', 'chuvoso', 'chuvoso', 'nublado', \n",
        "                     'ensolarado', 'ensolarado', 'chuvoso', 'ensolarado', 'nublado', 'nublado', 'chuvoso'], \n",
        "          'temp': ['quente', 'quente', 'quente', 'media', 'fria', 'fria', 'fria', \n",
        "                        'media', 'fria', 'media', 'media', 'media', 'quente', 'media'],\n",
        "          'umidade': ['alta', 'alta', 'alta', 'alta', 'normal', 'normal', 'normal', \n",
        "                     'alta', 'normal', 'normal', 'normal', 'alta', 'normal', 'alta'],\n",
        "          'vento': ['F', 'V', 'F', 'F', 'F', 'V', 'V', \n",
        "                  'F', 'F', 'F', 'V', 'V', 'F', 'V'],\n",
        "          'jogar': ['F', 'F', 'V', 'V', 'V', 'F', 'V', \n",
        "                 'F', 'V', 'V', 'V', 'V', 'V', 'F']}\n",
        "wdf = pd.DataFrame(weather)[['ceu', 'temp', 'umidade', 'vento', 'jogar']]"
      ],
      "execution_count": null,
      "outputs": []
    },
    {
      "cell_type": "code",
      "metadata": {
        "id": "3xDifJX6Ozhu"
      },
      "source": [
        ""
      ],
      "execution_count": null,
      "outputs": []
    },
    {
      "cell_type": "code",
      "metadata": {
        "scrolled": false,
        "id": "XD3D6eTINvfI",
        "colab": {
          "base_uri": "https://localhost:8080/"
        },
        "outputId": "b9c5ef91-d1d7-4ea7-bc35-cfa44ee2496c"
      },
      "source": [
        "wdf"
      ],
      "execution_count": null,
      "outputs": [
        {
          "output_type": "execute_result",
          "data": {
            "text/html": [
              "<div>\n",
              "<style scoped>\n",
              "    .dataframe tbody tr th:only-of-type {\n",
              "        vertical-align: middle;\n",
              "    }\n",
              "\n",
              "    .dataframe tbody tr th {\n",
              "        vertical-align: top;\n",
              "    }\n",
              "\n",
              "    .dataframe thead th {\n",
              "        text-align: right;\n",
              "    }\n",
              "</style>\n",
              "<table border=\"1\" class=\"dataframe\">\n",
              "  <thead>\n",
              "    <tr style=\"text-align: right;\">\n",
              "      <th></th>\n",
              "      <th>ceu</th>\n",
              "      <th>temp</th>\n",
              "      <th>umidade</th>\n",
              "      <th>vento</th>\n",
              "      <th>jogar</th>\n",
              "    </tr>\n",
              "  </thead>\n",
              "  <tbody>\n",
              "    <tr>\n",
              "      <th>0</th>\n",
              "      <td>ensolarado</td>\n",
              "      <td>quente</td>\n",
              "      <td>alta</td>\n",
              "      <td>F</td>\n",
              "      <td>F</td>\n",
              "    </tr>\n",
              "    <tr>\n",
              "      <th>1</th>\n",
              "      <td>ensolarado</td>\n",
              "      <td>quente</td>\n",
              "      <td>alta</td>\n",
              "      <td>V</td>\n",
              "      <td>F</td>\n",
              "    </tr>\n",
              "    <tr>\n",
              "      <th>2</th>\n",
              "      <td>nublado</td>\n",
              "      <td>quente</td>\n",
              "      <td>alta</td>\n",
              "      <td>F</td>\n",
              "      <td>V</td>\n",
              "    </tr>\n",
              "    <tr>\n",
              "      <th>3</th>\n",
              "      <td>chuvoso</td>\n",
              "      <td>media</td>\n",
              "      <td>alta</td>\n",
              "      <td>F</td>\n",
              "      <td>V</td>\n",
              "    </tr>\n",
              "    <tr>\n",
              "      <th>4</th>\n",
              "      <td>chuvoso</td>\n",
              "      <td>fria</td>\n",
              "      <td>normal</td>\n",
              "      <td>F</td>\n",
              "      <td>V</td>\n",
              "    </tr>\n",
              "    <tr>\n",
              "      <th>5</th>\n",
              "      <td>chuvoso</td>\n",
              "      <td>fria</td>\n",
              "      <td>normal</td>\n",
              "      <td>V</td>\n",
              "      <td>F</td>\n",
              "    </tr>\n",
              "    <tr>\n",
              "      <th>6</th>\n",
              "      <td>nublado</td>\n",
              "      <td>fria</td>\n",
              "      <td>normal</td>\n",
              "      <td>V</td>\n",
              "      <td>V</td>\n",
              "    </tr>\n",
              "    <tr>\n",
              "      <th>7</th>\n",
              "      <td>ensolarado</td>\n",
              "      <td>media</td>\n",
              "      <td>alta</td>\n",
              "      <td>F</td>\n",
              "      <td>F</td>\n",
              "    </tr>\n",
              "    <tr>\n",
              "      <th>8</th>\n",
              "      <td>ensolarado</td>\n",
              "      <td>fria</td>\n",
              "      <td>normal</td>\n",
              "      <td>F</td>\n",
              "      <td>V</td>\n",
              "    </tr>\n",
              "    <tr>\n",
              "      <th>9</th>\n",
              "      <td>chuvoso</td>\n",
              "      <td>media</td>\n",
              "      <td>normal</td>\n",
              "      <td>F</td>\n",
              "      <td>V</td>\n",
              "    </tr>\n",
              "    <tr>\n",
              "      <th>10</th>\n",
              "      <td>ensolarado</td>\n",
              "      <td>media</td>\n",
              "      <td>normal</td>\n",
              "      <td>V</td>\n",
              "      <td>V</td>\n",
              "    </tr>\n",
              "    <tr>\n",
              "      <th>11</th>\n",
              "      <td>nublado</td>\n",
              "      <td>media</td>\n",
              "      <td>alta</td>\n",
              "      <td>V</td>\n",
              "      <td>V</td>\n",
              "    </tr>\n",
              "    <tr>\n",
              "      <th>12</th>\n",
              "      <td>nublado</td>\n",
              "      <td>quente</td>\n",
              "      <td>normal</td>\n",
              "      <td>F</td>\n",
              "      <td>V</td>\n",
              "    </tr>\n",
              "    <tr>\n",
              "      <th>13</th>\n",
              "      <td>chuvoso</td>\n",
              "      <td>media</td>\n",
              "      <td>alta</td>\n",
              "      <td>V</td>\n",
              "      <td>F</td>\n",
              "    </tr>\n",
              "  </tbody>\n",
              "</table>\n",
              "</div>"
            ],
            "text/plain": [
              "           ceu    temp umidade vento jogar\n",
              "0   ensolarado  quente    alta     F     F\n",
              "1   ensolarado  quente    alta     V     F\n",
              "2      nublado  quente    alta     F     V\n",
              "3      chuvoso   media    alta     F     V\n",
              "4      chuvoso    fria  normal     F     V\n",
              "5      chuvoso    fria  normal     V     F\n",
              "6      nublado    fria  normal     V     V\n",
              "7   ensolarado   media    alta     F     F\n",
              "8   ensolarado    fria  normal     F     V\n",
              "9      chuvoso   media  normal     F     V\n",
              "10  ensolarado   media  normal     V     V\n",
              "11     nublado   media    alta     V     V\n",
              "12     nublado  quente  normal     F     V\n",
              "13     chuvoso   media    alta     V     F"
            ]
          },
          "metadata": {},
          "execution_count": 6
        }
      ]
    },
    {
      "cell_type": "markdown",
      "metadata": {
        "id": "BmAVFG7HO4Hw"
      },
      "source": [
        "# Árvores - O algoritmo ID3"
      ]
    },
    {
      "cell_type": "markdown",
      "metadata": {
        "id": "7L2irOqiPMHO"
      },
      "source": [
        "\n",
        "\n",
        "> \n",
        "\n"
      ]
    },
    {
      "cell_type": "markdown",
      "metadata": {
        "id": "IeowN_LuNvfK"
      },
      "source": [
        "Classificar uma série de instâncias pode ser pensado como organizar as instâncias em grupos homogêneos (em relação à variável alvo). Por exemplo, para a coleção _weather_, queremos ter grupos de instâncias nos quais jogar sempre é V ou sempre é F.\n",
        "\n",
        "Dado um certo conjunto de grupos, podemos medir a homogeneidade por meio de sua entropia, ou _a quantidade de informação necessária para descrever o conjunto de grupos_. No caso da coleção _weather_, suponha que você considere a coleção inteira como um único grupo com 4 instâncias jogar=F e 9 instâncias jogar=V. Como medir a homogeneidade (ou quantidade de informação) nesse grupo? \n",
        "\n",
        "Primeiro, vamos pensar nele como uma sequência de símbolos jogar=F e jogar=V. A informação associada a uma sequencia de símbolos pode ser estimada como a entropia dessa sequencia de símbolos, ou seja, _a quantidade de informação necessária para transmitir essa sequência por um canal de comunicação_. Matematicamente, usando a formulação de Claude Shannon em seu trabalho sobre Teoria da Informação, temos:"
      ]
    },
    {
      "cell_type": "markdown",
      "metadata": {
        "id": "T4fRguYZNvfL"
      },
      "source": [
        "$$info(s_1, ..., s_n) = entropy(s_1, ..., s_n) = \\sum_{i=1}^{n} -P(s_i) \\log P(s_i) $$"
      ]
    },
    {
      "cell_type": "code",
      "metadata": {
        "id": "SHR4uvulNvfM"
      },
      "source": [
        "def info(t):\n",
        "    # obtenha seq de simbolos e suas probabilidades\n",
        "    Ps = t.value_counts(normalize = True).to_dict()\n",
        "    # calcule a entropia\n",
        "    return sum([- Ps[s] * np.log2(Ps[s]) for s in Ps])"
      ],
      "execution_count": null,
      "outputs": []
    },
    {
      "cell_type": "markdown",
      "metadata": {
        "id": "baAAB9zCPtmt"
      },
      "source": [
        "Para o caso da coleção Weather -- uma sequência de 9 jogar=V e 5 jogar=F -- a quantidade de informação é 0.94 bits:"
      ]
    },
    {
      "cell_type": "code",
      "metadata": {
        "id": "hPRTjPvJNvfM",
        "colab": {
          "base_uri": "https://localhost:8080/"
        },
        "outputId": "8f5c95c3-1f94-4f9d-f1ff-11b3c3cc9c46"
      },
      "source": [
        "info_classes = info(wdf.jogar)\n",
        "info_classes"
      ],
      "execution_count": null,
      "outputs": [
        {
          "output_type": "execute_result",
          "data": {
            "text/plain": [
              "0.9402859586706309"
            ]
          },
          "metadata": {},
          "execution_count": 8
        }
      ]
    },
    {
      "cell_type": "markdown",
      "metadata": {
        "id": "j_7vPDq8P11Q"
      },
      "source": [
        "Imagine agora que queremos diminuir a quantidade de informação. Uma forma de fazer isso é dividir a coleção, usando informação dos atributos adicionais, para obter mais grupos de dados, de forma que cada grupo seja mais homogêneo que a coleção toda anterior (quanto mais homogêneo, menor a quantidade de informação e maior a entropia)."
      ]
    },
    {
      "cell_type": "code",
      "metadata": {
        "id": "DxXgQOXXP2yq"
      },
      "source": [
        ""
      ],
      "execution_count": null,
      "outputs": []
    },
    {
      "cell_type": "markdown",
      "metadata": {
        "id": "6Pd3SModNvfN"
      },
      "source": [
        "Assim, usando esse raciocício, **qual a quantidade de informação de uma nova segmentação dos nossos dados, feita de acordo com os valores do atributo _ceu_**?\n",
        "\n",
        "Para tanto, vamos ver nossa coleção, segmentada de acordo com _ceu_:"
      ]
    },
    {
      "cell_type": "code",
      "metadata": {
        "id": "9CmyV52VNvfN",
        "colab": {
          "base_uri": "https://localhost:8080/"
        },
        "outputId": "173b2273-3315-4d6d-a462-9bbdfb0d568b"
      },
      "source": [
        "wdf.sort_values('ceu')"
      ],
      "execution_count": null,
      "outputs": [
        {
          "output_type": "execute_result",
          "data": {
            "text/html": [
              "<div>\n",
              "<style scoped>\n",
              "    .dataframe tbody tr th:only-of-type {\n",
              "        vertical-align: middle;\n",
              "    }\n",
              "\n",
              "    .dataframe tbody tr th {\n",
              "        vertical-align: top;\n",
              "    }\n",
              "\n",
              "    .dataframe thead th {\n",
              "        text-align: right;\n",
              "    }\n",
              "</style>\n",
              "<table border=\"1\" class=\"dataframe\">\n",
              "  <thead>\n",
              "    <tr style=\"text-align: right;\">\n",
              "      <th></th>\n",
              "      <th>ceu</th>\n",
              "      <th>temp</th>\n",
              "      <th>umidade</th>\n",
              "      <th>vento</th>\n",
              "      <th>jogar</th>\n",
              "    </tr>\n",
              "  </thead>\n",
              "  <tbody>\n",
              "    <tr>\n",
              "      <th>3</th>\n",
              "      <td>chuvoso</td>\n",
              "      <td>media</td>\n",
              "      <td>alta</td>\n",
              "      <td>F</td>\n",
              "      <td>V</td>\n",
              "    </tr>\n",
              "    <tr>\n",
              "      <th>4</th>\n",
              "      <td>chuvoso</td>\n",
              "      <td>fria</td>\n",
              "      <td>normal</td>\n",
              "      <td>F</td>\n",
              "      <td>V</td>\n",
              "    </tr>\n",
              "    <tr>\n",
              "      <th>5</th>\n",
              "      <td>chuvoso</td>\n",
              "      <td>fria</td>\n",
              "      <td>normal</td>\n",
              "      <td>V</td>\n",
              "      <td>F</td>\n",
              "    </tr>\n",
              "    <tr>\n",
              "      <th>9</th>\n",
              "      <td>chuvoso</td>\n",
              "      <td>media</td>\n",
              "      <td>normal</td>\n",
              "      <td>F</td>\n",
              "      <td>V</td>\n",
              "    </tr>\n",
              "    <tr>\n",
              "      <th>13</th>\n",
              "      <td>chuvoso</td>\n",
              "      <td>media</td>\n",
              "      <td>alta</td>\n",
              "      <td>V</td>\n",
              "      <td>F</td>\n",
              "    </tr>\n",
              "    <tr>\n",
              "      <th>0</th>\n",
              "      <td>ensolarado</td>\n",
              "      <td>quente</td>\n",
              "      <td>alta</td>\n",
              "      <td>F</td>\n",
              "      <td>F</td>\n",
              "    </tr>\n",
              "    <tr>\n",
              "      <th>1</th>\n",
              "      <td>ensolarado</td>\n",
              "      <td>quente</td>\n",
              "      <td>alta</td>\n",
              "      <td>V</td>\n",
              "      <td>F</td>\n",
              "    </tr>\n",
              "    <tr>\n",
              "      <th>7</th>\n",
              "      <td>ensolarado</td>\n",
              "      <td>media</td>\n",
              "      <td>alta</td>\n",
              "      <td>F</td>\n",
              "      <td>F</td>\n",
              "    </tr>\n",
              "    <tr>\n",
              "      <th>8</th>\n",
              "      <td>ensolarado</td>\n",
              "      <td>fria</td>\n",
              "      <td>normal</td>\n",
              "      <td>F</td>\n",
              "      <td>V</td>\n",
              "    </tr>\n",
              "    <tr>\n",
              "      <th>10</th>\n",
              "      <td>ensolarado</td>\n",
              "      <td>media</td>\n",
              "      <td>normal</td>\n",
              "      <td>V</td>\n",
              "      <td>V</td>\n",
              "    </tr>\n",
              "    <tr>\n",
              "      <th>2</th>\n",
              "      <td>nublado</td>\n",
              "      <td>quente</td>\n",
              "      <td>alta</td>\n",
              "      <td>F</td>\n",
              "      <td>V</td>\n",
              "    </tr>\n",
              "    <tr>\n",
              "      <th>6</th>\n",
              "      <td>nublado</td>\n",
              "      <td>fria</td>\n",
              "      <td>normal</td>\n",
              "      <td>V</td>\n",
              "      <td>V</td>\n",
              "    </tr>\n",
              "    <tr>\n",
              "      <th>11</th>\n",
              "      <td>nublado</td>\n",
              "      <td>media</td>\n",
              "      <td>alta</td>\n",
              "      <td>V</td>\n",
              "      <td>V</td>\n",
              "    </tr>\n",
              "    <tr>\n",
              "      <th>12</th>\n",
              "      <td>nublado</td>\n",
              "      <td>quente</td>\n",
              "      <td>normal</td>\n",
              "      <td>F</td>\n",
              "      <td>V</td>\n",
              "    </tr>\n",
              "  </tbody>\n",
              "</table>\n",
              "</div>"
            ],
            "text/plain": [
              "           ceu    temp umidade vento jogar\n",
              "3      chuvoso   media    alta     F     V\n",
              "4      chuvoso    fria  normal     F     V\n",
              "5      chuvoso    fria  normal     V     F\n",
              "9      chuvoso   media  normal     F     V\n",
              "13     chuvoso   media    alta     V     F\n",
              "0   ensolarado  quente    alta     F     F\n",
              "1   ensolarado  quente    alta     V     F\n",
              "7   ensolarado   media    alta     F     F\n",
              "8   ensolarado    fria  normal     F     V\n",
              "10  ensolarado   media  normal     V     V\n",
              "2      nublado  quente    alta     F     V\n",
              "6      nublado    fria  normal     V     V\n",
              "11     nublado   media    alta     V     V\n",
              "12     nublado  quente  normal     F     V"
            ]
          },
          "metadata": {},
          "execution_count": 9
        }
      ]
    },
    {
      "cell_type": "code",
      "metadata": {
        "colab": {
          "base_uri": "https://localhost:8080/"
        },
        "id": "YOvRRFa5P_F_",
        "outputId": "ca6f73c2-13e6-448e-a889-b92b044d89b8"
      },
      "source": [
        "pd.crosstab(wdf.ceu, wdf.jogar, margins = True)\n"
      ],
      "execution_count": null,
      "outputs": [
        {
          "output_type": "execute_result",
          "data": {
            "text/html": [
              "<div>\n",
              "<style scoped>\n",
              "    .dataframe tbody tr th:only-of-type {\n",
              "        vertical-align: middle;\n",
              "    }\n",
              "\n",
              "    .dataframe tbody tr th {\n",
              "        vertical-align: top;\n",
              "    }\n",
              "\n",
              "    .dataframe thead th {\n",
              "        text-align: right;\n",
              "    }\n",
              "</style>\n",
              "<table border=\"1\" class=\"dataframe\">\n",
              "  <thead>\n",
              "    <tr style=\"text-align: right;\">\n",
              "      <th>jogar</th>\n",
              "      <th>F</th>\n",
              "      <th>V</th>\n",
              "      <th>All</th>\n",
              "    </tr>\n",
              "    <tr>\n",
              "      <th>ceu</th>\n",
              "      <th></th>\n",
              "      <th></th>\n",
              "      <th></th>\n",
              "    </tr>\n",
              "  </thead>\n",
              "  <tbody>\n",
              "    <tr>\n",
              "      <th>chuvoso</th>\n",
              "      <td>2</td>\n",
              "      <td>3</td>\n",
              "      <td>5</td>\n",
              "    </tr>\n",
              "    <tr>\n",
              "      <th>ensolarado</th>\n",
              "      <td>3</td>\n",
              "      <td>2</td>\n",
              "      <td>5</td>\n",
              "    </tr>\n",
              "    <tr>\n",
              "      <th>nublado</th>\n",
              "      <td>0</td>\n",
              "      <td>4</td>\n",
              "      <td>4</td>\n",
              "    </tr>\n",
              "    <tr>\n",
              "      <th>All</th>\n",
              "      <td>5</td>\n",
              "      <td>9</td>\n",
              "      <td>14</td>\n",
              "    </tr>\n",
              "  </tbody>\n",
              "</table>\n",
              "</div>"
            ],
            "text/plain": [
              "jogar       F  V  All\n",
              "ceu                  \n",
              "chuvoso     2  3    5\n",
              "ensolarado  3  2    5\n",
              "nublado     0  4    4\n",
              "All         5  9   14"
            ]
          },
          "metadata": {},
          "execution_count": 10
        }
      ]
    },
    {
      "cell_type": "markdown",
      "metadata": {
        "id": "ZyT6D-aPQBz0"
      },
      "source": [
        "Notamos que ceu segmenta a coleção em três grupos: o primeiro com quatro instâncias (4 jogar=V e 0 jogar=F) correspondendo a 4/14 da coleção total; o segundo com 5 instâncias (3 jogar=V e 2 jogar=F) correspondendo a 5/14 da coleção total; e o terceiro com 5 instâncias (2 jogar=V e 3 jogar=F) correspondendo a 5/14 da coleção total. Logo, podemos calcular a informação deste novo arranjo como:\n"
      ]
    },
    {
      "cell_type": "code",
      "metadata": {
        "id": "YHxvuMgYQCuj"
      },
      "source": [
        ""
      ],
      "execution_count": null,
      "outputs": []
    },
    {
      "cell_type": "code",
      "metadata": {
        "id": "QRLEfpB2NvfO",
        "colab": {
          "base_uri": "https://localhost:8080/"
        },
        "outputId": "da0a3932-8418-4f52-ba1a-5238446bd636"
      },
      "source": [
        "print(wdf[wdf.ceu == 'nublado'].jogar.values)\n",
        "print(wdf[wdf.ceu == 'chuvoso'].jogar.values)\n",
        "print(wdf[wdf.ceu == 'ensolarado'].jogar.values)"
      ],
      "execution_count": null,
      "outputs": [
        {
          "output_type": "stream",
          "text": [
            "['V' 'V' 'V' 'V']\n",
            "['V' 'V' 'F' 'V' 'F']\n",
            "['F' 'F' 'F' 'V' 'V']\n"
          ],
          "name": "stdout"
        }
      ]
    },
    {
      "cell_type": "code",
      "metadata": {
        "id": "qQqnLLCcNvfO",
        "colab": {
          "base_uri": "https://localhost:8080/"
        },
        "outputId": "8ce8a139-6c27-423c-d9d5-16837c4b43e3"
      },
      "source": [
        "i_ceu_nublado = info(wdf[wdf.ceu == 'nublado'].jogar) \n",
        "i_ceu_chuvoso = info(wdf[wdf.ceu == 'chuvoso'].jogar)\n",
        "i_ceu_ensolarado = info(wdf[wdf.ceu == 'ensolarado'].jogar)\n",
        "\n",
        "i=dict([])\n",
        "g=dict([])\n",
        "\n",
        "i['ceu'] = (4./14.)*i_ceu_nublado + (5./14.)*i_ceu_chuvoso + (5./14.)*i_ceu_ensolarado\n",
        "i['ceu']"
      ],
      "execution_count": null,
      "outputs": [
        {
          "output_type": "execute_result",
          "data": {
            "text/plain": [
              "0.6935361388961918"
            ]
          },
          "metadata": {},
          "execution_count": 12
        }
      ]
    },
    {
      "cell_type": "markdown",
      "metadata": {
        "id": "_X0b6saaNvfO"
      },
      "source": [
        "Logo, o **ganho de informação** associado com _outlook_ pode ser estimado como a diferença da quantidade de informação no conjunto não segmentado original e a quantidade do conjunto segmentado, ou seja:"
      ]
    },
    {
      "cell_type": "code",
      "metadata": {
        "id": "X60qzlbBNvfO",
        "colab": {
          "base_uri": "https://localhost:8080/"
        },
        "outputId": "fc6cbcc5-2504-49db-ddd2-ece7b2f86d95"
      },
      "source": [
        "g['ceu'] = info_classes - i['ceu']\n",
        "g['ceu']"
      ],
      "execution_count": null,
      "outputs": [
        {
          "output_type": "execute_result",
          "data": {
            "text/plain": [
              "0.2467498197744391"
            ]
          },
          "metadata": {},
          "execution_count": 13
        }
      ]
    },
    {
      "cell_type": "markdown",
      "metadata": {
        "id": "idFRSC_QNvfP"
      },
      "source": [
        "Assim, segmentando com ceu, nós conseguimos economizar 0.24 bits na representação da informação.\n",
        "\n",
        "Vamos agora calcular o ganho de informação de todas as variáveis para determinar a mais informativa.\n",
        "\n",
        "__Qual a quantidade de informação relacionada com _temp_?__"
      ]
    },
    {
      "cell_type": "code",
      "metadata": {
        "id": "Z_vUHICANvfQ",
        "colab": {
          "base_uri": "https://localhost:8080/"
        },
        "outputId": "4e4a0795-ddf7-4b84-bc6c-386476777f7e"
      },
      "source": [
        "pd.crosstab(wdf.temp, wdf.jogar, margins = True)"
      ],
      "execution_count": null,
      "outputs": [
        {
          "output_type": "execute_result",
          "data": {
            "text/html": [
              "<div>\n",
              "<style scoped>\n",
              "    .dataframe tbody tr th:only-of-type {\n",
              "        vertical-align: middle;\n",
              "    }\n",
              "\n",
              "    .dataframe tbody tr th {\n",
              "        vertical-align: top;\n",
              "    }\n",
              "\n",
              "    .dataframe thead th {\n",
              "        text-align: right;\n",
              "    }\n",
              "</style>\n",
              "<table border=\"1\" class=\"dataframe\">\n",
              "  <thead>\n",
              "    <tr style=\"text-align: right;\">\n",
              "      <th>jogar</th>\n",
              "      <th>F</th>\n",
              "      <th>V</th>\n",
              "      <th>All</th>\n",
              "    </tr>\n",
              "    <tr>\n",
              "      <th>temp</th>\n",
              "      <th></th>\n",
              "      <th></th>\n",
              "      <th></th>\n",
              "    </tr>\n",
              "  </thead>\n",
              "  <tbody>\n",
              "    <tr>\n",
              "      <th>fria</th>\n",
              "      <td>1</td>\n",
              "      <td>3</td>\n",
              "      <td>4</td>\n",
              "    </tr>\n",
              "    <tr>\n",
              "      <th>media</th>\n",
              "      <td>2</td>\n",
              "      <td>4</td>\n",
              "      <td>6</td>\n",
              "    </tr>\n",
              "    <tr>\n",
              "      <th>quente</th>\n",
              "      <td>2</td>\n",
              "      <td>2</td>\n",
              "      <td>4</td>\n",
              "    </tr>\n",
              "    <tr>\n",
              "      <th>All</th>\n",
              "      <td>5</td>\n",
              "      <td>9</td>\n",
              "      <td>14</td>\n",
              "    </tr>\n",
              "  </tbody>\n",
              "</table>\n",
              "</div>"
            ],
            "text/plain": [
              "jogar   F  V  All\n",
              "temp             \n",
              "fria    1  3    4\n",
              "media   2  4    6\n",
              "quente  2  2    4\n",
              "All     5  9   14"
            ]
          },
          "metadata": {},
          "execution_count": 14
        }
      ]
    },
    {
      "cell_type": "code",
      "metadata": {
        "scrolled": true,
        "id": "vNizH8A0NvfQ",
        "colab": {
          "base_uri": "https://localhost:8080/"
        },
        "outputId": "5f49a93f-9197-4ad5-f39c-16dc32d7e0f9"
      },
      "source": [
        "i['temp'] = ((4./14.)*info(wdf[wdf.temp == 'fria'].jogar) + \n",
        "             (6./14.)*info(wdf[wdf.temp == 'media'].jogar) + \n",
        "             (4./14.)*info(wdf[wdf.temp == 'quente'].jogar))\n",
        "g['temp'] = info_classes - i['temp']\n",
        "g['temp']"
      ],
      "execution_count": null,
      "outputs": [
        {
          "output_type": "execute_result",
          "data": {
            "text/plain": [
              "0.029222565658954647"
            ]
          },
          "metadata": {},
          "execution_count": 15
        }
      ]
    },
    {
      "cell_type": "markdown",
      "metadata": {
        "id": "bWvOOTDdNvfQ"
      },
      "source": [
        "__Qual a quantidade de informação relacionada com _umidade_?__"
      ]
    },
    {
      "cell_type": "code",
      "metadata": {
        "id": "RriEFcNvNvfQ",
        "colab": {
          "base_uri": "https://localhost:8080/"
        },
        "outputId": "988b1a0f-b245-47d4-beff-28acdc46dcac"
      },
      "source": [
        "pd.crosstab(wdf.umidade, wdf.jogar, margins = True)"
      ],
      "execution_count": null,
      "outputs": [
        {
          "output_type": "execute_result",
          "data": {
            "text/html": [
              "<div>\n",
              "<style scoped>\n",
              "    .dataframe tbody tr th:only-of-type {\n",
              "        vertical-align: middle;\n",
              "    }\n",
              "\n",
              "    .dataframe tbody tr th {\n",
              "        vertical-align: top;\n",
              "    }\n",
              "\n",
              "    .dataframe thead th {\n",
              "        text-align: right;\n",
              "    }\n",
              "</style>\n",
              "<table border=\"1\" class=\"dataframe\">\n",
              "  <thead>\n",
              "    <tr style=\"text-align: right;\">\n",
              "      <th>jogar</th>\n",
              "      <th>F</th>\n",
              "      <th>V</th>\n",
              "      <th>All</th>\n",
              "    </tr>\n",
              "    <tr>\n",
              "      <th>umidade</th>\n",
              "      <th></th>\n",
              "      <th></th>\n",
              "      <th></th>\n",
              "    </tr>\n",
              "  </thead>\n",
              "  <tbody>\n",
              "    <tr>\n",
              "      <th>alta</th>\n",
              "      <td>4</td>\n",
              "      <td>3</td>\n",
              "      <td>7</td>\n",
              "    </tr>\n",
              "    <tr>\n",
              "      <th>normal</th>\n",
              "      <td>1</td>\n",
              "      <td>6</td>\n",
              "      <td>7</td>\n",
              "    </tr>\n",
              "    <tr>\n",
              "      <th>All</th>\n",
              "      <td>5</td>\n",
              "      <td>9</td>\n",
              "      <td>14</td>\n",
              "    </tr>\n",
              "  </tbody>\n",
              "</table>\n",
              "</div>"
            ],
            "text/plain": [
              "jogar    F  V  All\n",
              "umidade           \n",
              "alta     4  3    7\n",
              "normal   1  6    7\n",
              "All      5  9   14"
            ]
          },
          "metadata": {},
          "execution_count": 16
        }
      ]
    },
    {
      "cell_type": "code",
      "metadata": {
        "scrolled": false,
        "id": "4LD5480MNvfQ",
        "colab": {
          "base_uri": "https://localhost:8080/"
        },
        "outputId": "f747d850-f9f3-482d-a0c3-720737cbadf0"
      },
      "source": [
        "i['umidade'] = ((7./14.)*info(wdf[wdf.umidade == 'alta'].jogar) + \n",
        "                (7./14.)*info(wdf[wdf.umidade == 'normal'].jogar))\n",
        "g['umidade'] = info_classes - i['umidade']\n",
        "g['umidade']"
      ],
      "execution_count": null,
      "outputs": [
        {
          "output_type": "execute_result",
          "data": {
            "text/plain": [
              "0.15183550136234136"
            ]
          },
          "metadata": {},
          "execution_count": 17
        }
      ]
    },
    {
      "cell_type": "markdown",
      "metadata": {
        "id": "Y6EvBkM8NvfR"
      },
      "source": [
        "__Qual a quantidade de informação relacionada com _vento_?__"
      ]
    },
    {
      "cell_type": "code",
      "metadata": {
        "id": "tcn0e2BvNvfR",
        "colab": {
          "base_uri": "https://localhost:8080/"
        },
        "outputId": "c96a474d-b4b6-465e-d9cd-c0419d47dab0"
      },
      "source": [
        "pd.crosstab(wdf.vento, wdf.jogar, margins = True)"
      ],
      "execution_count": null,
      "outputs": [
        {
          "output_type": "execute_result",
          "data": {
            "text/html": [
              "<div>\n",
              "<style scoped>\n",
              "    .dataframe tbody tr th:only-of-type {\n",
              "        vertical-align: middle;\n",
              "    }\n",
              "\n",
              "    .dataframe tbody tr th {\n",
              "        vertical-align: top;\n",
              "    }\n",
              "\n",
              "    .dataframe thead th {\n",
              "        text-align: right;\n",
              "    }\n",
              "</style>\n",
              "<table border=\"1\" class=\"dataframe\">\n",
              "  <thead>\n",
              "    <tr style=\"text-align: right;\">\n",
              "      <th>jogar</th>\n",
              "      <th>F</th>\n",
              "      <th>V</th>\n",
              "      <th>All</th>\n",
              "    </tr>\n",
              "    <tr>\n",
              "      <th>vento</th>\n",
              "      <th></th>\n",
              "      <th></th>\n",
              "      <th></th>\n",
              "    </tr>\n",
              "  </thead>\n",
              "  <tbody>\n",
              "    <tr>\n",
              "      <th>F</th>\n",
              "      <td>2</td>\n",
              "      <td>6</td>\n",
              "      <td>8</td>\n",
              "    </tr>\n",
              "    <tr>\n",
              "      <th>V</th>\n",
              "      <td>3</td>\n",
              "      <td>3</td>\n",
              "      <td>6</td>\n",
              "    </tr>\n",
              "    <tr>\n",
              "      <th>All</th>\n",
              "      <td>5</td>\n",
              "      <td>9</td>\n",
              "      <td>14</td>\n",
              "    </tr>\n",
              "  </tbody>\n",
              "</table>\n",
              "</div>"
            ],
            "text/plain": [
              "jogar  F  V  All\n",
              "vento           \n",
              "F      2  6    8\n",
              "V      3  3    6\n",
              "All    5  9   14"
            ]
          },
          "metadata": {},
          "execution_count": 18
        }
      ]
    },
    {
      "cell_type": "code",
      "metadata": {
        "scrolled": false,
        "id": "JxWN0FYMNvfS",
        "colab": {
          "base_uri": "https://localhost:8080/"
        },
        "outputId": "50ca7b8f-97d6-48b1-e2d9-2f1d0bebbd3e"
      },
      "source": [
        "i['vento'] = (8./14.)*info(wdf[wdf.vento == 'F'].jogar) + (6./14.)*info(wdf[wdf.vento == 'V'].jogar)\n",
        "g['vento'] = info_classes - i['vento']\n",
        "g['vento']"
      ],
      "execution_count": null,
      "outputs": [
        {
          "output_type": "execute_result",
          "data": {
            "text/plain": [
              "0.04812703040826927"
            ]
          },
          "metadata": {},
          "execution_count": 19
        }
      ]
    },
    {
      "cell_type": "markdown",
      "metadata": {
        "id": "MymXhG1UNvfS"
      },
      "source": [
        "Quando comparamos todos os ganhos obtidos:"
      ]
    },
    {
      "cell_type": "code",
      "metadata": {
        "id": "d0oo7rHaNvfS",
        "colab": {
          "base_uri": "https://localhost:8080/"
        },
        "outputId": "191fd6ea-dc48-4fe0-ea85-a1e854e23902"
      },
      "source": [
        "g"
      ],
      "execution_count": null,
      "outputs": [
        {
          "output_type": "execute_result",
          "data": {
            "text/plain": [
              "{'ceu': 0.2467498197744391,\n",
              " 'temp': 0.029222565658954647,\n",
              " 'umidade': 0.15183550136234136,\n",
              " 'vento': 0.04812703040826927}"
            ]
          },
          "metadata": {},
          "execution_count": 20
        }
      ]
    },
    {
      "cell_type": "markdown",
      "metadata": {
        "id": "NGoBe3eWNvfS"
      },
      "source": [
        "Observamos que claramente o maior ganho foi o do atributo ceu. Este então será escolhido como a raíz da árvore."
      ]
    },
    {
      "cell_type": "code",
      "metadata": {
        "scrolled": true,
        "id": "BhRPhzwkNvfS",
        "colab": {
          "base_uri": "https://localhost:8080/"
        },
        "outputId": "6af358c3-fd25-4b16-d9fe-8e97a83dc18c"
      },
      "source": [
        "dtdraw(wdf, 'ceu')"
      ],
      "execution_count": null,
      "outputs": [
        {
          "output_type": "display_data",
          "data": {
            "image/png": "[encoded data removed]",
            "text/plain": [
              "<IPython.core.display.Image object>"
            ]
          },
          "metadata": {}
        }
      ]
    },
    {
      "cell_type": "markdown",
      "metadata": {
        "id": "DzYeork_NvfT"
      },
      "source": [
        "Usando ceu como raíz, notamos que uma folha da árvore já fica resolvida, ceu = nublado, já que ela leva a uma forma perfeitamente homogênea (neste caso, sempre jogar=V)."
      ]
    },
    {
      "cell_type": "markdown",
      "metadata": {
        "id": "yuuE36cUNvfT"
      },
      "source": [
        "Vamos agora considerar os demais casos. Por exemplo, jogar = ensolarado."
      ]
    },
    {
      "cell_type": "markdown",
      "metadata": {
        "id": "A7hxmE9tNvfT"
      },
      "source": [
        "Note que agora, para classificar apenas estes dados (jogar = V ocorre 2 vezes e jogar = F ocorre 3 vezes), é necessária a seguinte quantidade de informação:"
      ]
    },
    {
      "cell_type": "code",
      "metadata": {
        "id": "F93DsEP2NvfT",
        "colab": {
          "base_uri": "https://localhost:8080/"
        },
        "outputId": "a19fbe32-39f9-44d4-890a-6ed040605402"
      },
      "source": [
        "wdf2 = wdf[wdf.ceu=='ensolarado']\n",
        "wdf2"
      ],
      "execution_count": null,
      "outputs": [
        {
          "output_type": "execute_result",
          "data": {
            "text/html": [
              "<div>\n",
              "<style scoped>\n",
              "    .dataframe tbody tr th:only-of-type {\n",
              "        vertical-align: middle;\n",
              "    }\n",
              "\n",
              "    .dataframe tbody tr th {\n",
              "        vertical-align: top;\n",
              "    }\n",
              "\n",
              "    .dataframe thead th {\n",
              "        text-align: right;\n",
              "    }\n",
              "</style>\n",
              "<table border=\"1\" class=\"dataframe\">\n",
              "  <thead>\n",
              "    <tr style=\"text-align: right;\">\n",
              "      <th></th>\n",
              "      <th>ceu</th>\n",
              "      <th>temp</th>\n",
              "      <th>umidade</th>\n",
              "      <th>vento</th>\n",
              "      <th>jogar</th>\n",
              "    </tr>\n",
              "  </thead>\n",
              "  <tbody>\n",
              "    <tr>\n",
              "      <th>0</th>\n",
              "      <td>ensolarado</td>\n",
              "      <td>quente</td>\n",
              "      <td>alta</td>\n",
              "      <td>F</td>\n",
              "      <td>F</td>\n",
              "    </tr>\n",
              "    <tr>\n",
              "      <th>1</th>\n",
              "      <td>ensolarado</td>\n",
              "      <td>quente</td>\n",
              "      <td>alta</td>\n",
              "      <td>V</td>\n",
              "      <td>F</td>\n",
              "    </tr>\n",
              "    <tr>\n",
              "      <th>7</th>\n",
              "      <td>ensolarado</td>\n",
              "      <td>media</td>\n",
              "      <td>alta</td>\n",
              "      <td>F</td>\n",
              "      <td>F</td>\n",
              "    </tr>\n",
              "    <tr>\n",
              "      <th>8</th>\n",
              "      <td>ensolarado</td>\n",
              "      <td>fria</td>\n",
              "      <td>normal</td>\n",
              "      <td>F</td>\n",
              "      <td>V</td>\n",
              "    </tr>\n",
              "    <tr>\n",
              "      <th>10</th>\n",
              "      <td>ensolarado</td>\n",
              "      <td>media</td>\n",
              "      <td>normal</td>\n",
              "      <td>V</td>\n",
              "      <td>V</td>\n",
              "    </tr>\n",
              "  </tbody>\n",
              "</table>\n",
              "</div>"
            ],
            "text/plain": [
              "           ceu    temp umidade vento jogar\n",
              "0   ensolarado  quente    alta     F     F\n",
              "1   ensolarado  quente    alta     V     F\n",
              "7   ensolarado   media    alta     F     F\n",
              "8   ensolarado    fria  normal     F     V\n",
              "10  ensolarado   media  normal     V     V"
            ]
          },
          "metadata": {},
          "execution_count": 22
        }
      ]
    },
    {
      "cell_type": "code",
      "metadata": {
        "id": "8NUZjHEDNvfV",
        "colab": {
          "base_uri": "https://localhost:8080/"
        },
        "outputId": "b559d383-d51f-435d-a84a-d137ed835041"
      },
      "source": [
        "info_classes = info(wdf2.jogar)\n",
        "info_classes"
      ],
      "execution_count": null,
      "outputs": [
        {
          "output_type": "execute_result",
          "data": {
            "text/plain": [
              "0.9709505944546686"
            ]
          },
          "metadata": {},
          "execution_count": 23
        }
      ]
    },
    {
      "cell_type": "code",
      "metadata": {
        "id": "6_EH0P9UNvfV"
      },
      "source": [
        "i=dict([])\n",
        "g=dict([])"
      ],
      "execution_count": null,
      "outputs": []
    },
    {
      "cell_type": "markdown",
      "metadata": {
        "id": "6TtoaRGjNvfV"
      },
      "source": [
        "Vamos considerar agora secções com as outras variáveis neste caso."
      ]
    },
    {
      "cell_type": "code",
      "metadata": {
        "scrolled": true,
        "id": "ENP9SiGeNvfV",
        "colab": {
          "base_uri": "https://localhost:8080/"
        },
        "outputId": "10fecbd6-7718-4090-ce28-31c82c8e00da"
      },
      "source": [
        "pd.crosstab(wdf2.temp, wdf2.jogar, margins = True)"
      ],
      "execution_count": null,
      "outputs": [
        {
          "output_type": "execute_result",
          "data": {
            "text/html": [
              "<div>\n",
              "<style scoped>\n",
              "    .dataframe tbody tr th:only-of-type {\n",
              "        vertical-align: middle;\n",
              "    }\n",
              "\n",
              "    .dataframe tbody tr th {\n",
              "        vertical-align: top;\n",
              "    }\n",
              "\n",
              "    .dataframe thead th {\n",
              "        text-align: right;\n",
              "    }\n",
              "</style>\n",
              "<table border=\"1\" class=\"dataframe\">\n",
              "  <thead>\n",
              "    <tr style=\"text-align: right;\">\n",
              "      <th>jogar</th>\n",
              "      <th>F</th>\n",
              "      <th>V</th>\n",
              "      <th>All</th>\n",
              "    </tr>\n",
              "    <tr>\n",
              "      <th>temp</th>\n",
              "      <th></th>\n",
              "      <th></th>\n",
              "      <th></th>\n",
              "    </tr>\n",
              "  </thead>\n",
              "  <tbody>\n",
              "    <tr>\n",
              "      <th>fria</th>\n",
              "      <td>0</td>\n",
              "      <td>1</td>\n",
              "      <td>1</td>\n",
              "    </tr>\n",
              "    <tr>\n",
              "      <th>media</th>\n",
              "      <td>1</td>\n",
              "      <td>1</td>\n",
              "      <td>2</td>\n",
              "    </tr>\n",
              "    <tr>\n",
              "      <th>quente</th>\n",
              "      <td>2</td>\n",
              "      <td>0</td>\n",
              "      <td>2</td>\n",
              "    </tr>\n",
              "    <tr>\n",
              "      <th>All</th>\n",
              "      <td>3</td>\n",
              "      <td>2</td>\n",
              "      <td>5</td>\n",
              "    </tr>\n",
              "  </tbody>\n",
              "</table>\n",
              "</div>"
            ],
            "text/plain": [
              "jogar   F  V  All\n",
              "temp             \n",
              "fria    0  1    1\n",
              "media   1  1    2\n",
              "quente  2  0    2\n",
              "All     3  2    5"
            ]
          },
          "metadata": {},
          "execution_count": 25
        }
      ]
    },
    {
      "cell_type": "code",
      "metadata": {
        "id": "NxFd2lEWNvfV",
        "colab": {
          "base_uri": "https://localhost:8080/"
        },
        "outputId": "da14e984-0fde-422d-ff90-533a4871b795"
      },
      "source": [
        "i['temp'] = ((1./5.)*info(wdf2[wdf2.temp=='fria'].jogar) + \n",
        "             (2./5.)*info(wdf2[wdf2.temp=='quente'].jogar) + \n",
        "             (2./5.)*info(wdf2[wdf2.temp=='media'].jogar))\n",
        "g['temp'] = info_classes - i['temp']\n",
        "g['temp']"
      ],
      "execution_count": null,
      "outputs": [
        {
          "output_type": "execute_result",
          "data": {
            "text/plain": [
              "0.5709505944546686"
            ]
          },
          "metadata": {},
          "execution_count": 26
        }
      ]
    },
    {
      "cell_type": "code",
      "metadata": {
        "id": "KqIDIcbZNvfW",
        "colab": {
          "base_uri": "https://localhost:8080/"
        },
        "outputId": "bd738a39-5d7d-40df-a652-41a789225ff0"
      },
      "source": [
        "pd.crosstab(wdf2.umidade, wdf2.jogar)"
      ],
      "execution_count": null,
      "outputs": [
        {
          "output_type": "execute_result",
          "data": {
            "text/html": [
              "<div>\n",
              "<style scoped>\n",
              "    .dataframe tbody tr th:only-of-type {\n",
              "        vertical-align: middle;\n",
              "    }\n",
              "\n",
              "    .dataframe tbody tr th {\n",
              "        vertical-align: top;\n",
              "    }\n",
              "\n",
              "    .dataframe thead th {\n",
              "        text-align: right;\n",
              "    }\n",
              "</style>\n",
              "<table border=\"1\" class=\"dataframe\">\n",
              "  <thead>\n",
              "    <tr style=\"text-align: right;\">\n",
              "      <th>jogar</th>\n",
              "      <th>F</th>\n",
              "      <th>V</th>\n",
              "    </tr>\n",
              "    <tr>\n",
              "      <th>umidade</th>\n",
              "      <th></th>\n",
              "      <th></th>\n",
              "    </tr>\n",
              "  </thead>\n",
              "  <tbody>\n",
              "    <tr>\n",
              "      <th>alta</th>\n",
              "      <td>3</td>\n",
              "      <td>0</td>\n",
              "    </tr>\n",
              "    <tr>\n",
              "      <th>normal</th>\n",
              "      <td>0</td>\n",
              "      <td>2</td>\n",
              "    </tr>\n",
              "  </tbody>\n",
              "</table>\n",
              "</div>"
            ],
            "text/plain": [
              "jogar    F  V\n",
              "umidade      \n",
              "alta     3  0\n",
              "normal   0  2"
            ]
          },
          "metadata": {},
          "execution_count": 27
        }
      ]
    },
    {
      "cell_type": "code",
      "metadata": {
        "id": "mE68ig5kNvfW",
        "colab": {
          "base_uri": "https://localhost:8080/"
        },
        "outputId": "bbaac426-2d11-4b7d-d5ca-006817607163"
      },
      "source": [
        "i['umidade'] = ((3./5.)*info(wdf2[wdf2.umidade=='alta'].jogar) + \n",
        "                (2./5.)*info(wdf2[wdf2.umidade=='normal'].jogar))\n",
        "g['umidade'] = info_classes - i['umidade']\n",
        "g['umidade']"
      ],
      "execution_count": null,
      "outputs": [
        {
          "output_type": "execute_result",
          "data": {
            "text/plain": [
              "0.9709505944546686"
            ]
          },
          "metadata": {},
          "execution_count": 28
        }
      ]
    },
    {
      "cell_type": "code",
      "metadata": {
        "scrolled": true,
        "id": "2cHUWLQ1NvfX",
        "colab": {
          "base_uri": "https://localhost:8080/"
        },
        "outputId": "54253fe6-3e11-42f6-fc7c-303553a3c13d"
      },
      "source": [
        "pd.crosstab(wdf2.vento, wdf.jogar)"
      ],
      "execution_count": null,
      "outputs": [
        {
          "output_type": "execute_result",
          "data": {
            "text/html": [
              "<div>\n",
              "<style scoped>\n",
              "    .dataframe tbody tr th:only-of-type {\n",
              "        vertical-align: middle;\n",
              "    }\n",
              "\n",
              "    .dataframe tbody tr th {\n",
              "        vertical-align: top;\n",
              "    }\n",
              "\n",
              "    .dataframe thead th {\n",
              "        text-align: right;\n",
              "    }\n",
              "</style>\n",
              "<table border=\"1\" class=\"dataframe\">\n",
              "  <thead>\n",
              "    <tr style=\"text-align: right;\">\n",
              "      <th>jogar</th>\n",
              "      <th>F</th>\n",
              "      <th>V</th>\n",
              "    </tr>\n",
              "    <tr>\n",
              "      <th>vento</th>\n",
              "      <th></th>\n",
              "      <th></th>\n",
              "    </tr>\n",
              "  </thead>\n",
              "  <tbody>\n",
              "    <tr>\n",
              "      <th>F</th>\n",
              "      <td>2</td>\n",
              "      <td>1</td>\n",
              "    </tr>\n",
              "    <tr>\n",
              "      <th>V</th>\n",
              "      <td>1</td>\n",
              "      <td>1</td>\n",
              "    </tr>\n",
              "  </tbody>\n",
              "</table>\n",
              "</div>"
            ],
            "text/plain": [
              "jogar  F  V\n",
              "vento      \n",
              "F      2  1\n",
              "V      1  1"
            ]
          },
          "metadata": {},
          "execution_count": 29
        }
      ]
    },
    {
      "cell_type": "code",
      "metadata": {
        "id": "psbxG4YbNvfX",
        "colab": {
          "base_uri": "https://localhost:8080/"
        },
        "outputId": "e84e402d-0a5c-45af-a154-086e3dcde6f6"
      },
      "source": [
        "i['vento'] = (3./5.)*info(wdf2[wdf2.vento=='F'].jogar) + (2./5.)*info(wdf2[wdf2.vento=='V'].jogar)\n",
        "g['vento'] = info_classes - i['vento']\n",
        "g['vento']"
      ],
      "execution_count": null,
      "outputs": [
        {
          "output_type": "execute_result",
          "data": {
            "text/plain": [
              "0.01997309402197489"
            ]
          },
          "metadata": {},
          "execution_count": 30
        }
      ]
    },
    {
      "cell_type": "code",
      "metadata": {
        "scrolled": true,
        "id": "ECYFPIt4NvfX",
        "colab": {
          "base_uri": "https://localhost:8080/"
        },
        "outputId": "d2b7e5c6-b89f-46dc-a9e0-23ed7bc24f07"
      },
      "source": [
        "g"
      ],
      "execution_count": null,
      "outputs": [
        {
          "output_type": "execute_result",
          "data": {
            "text/plain": [
              "{'temp': 0.5709505944546686,\n",
              " 'umidade': 0.9709505944546686,\n",
              " 'vento': 0.01997309402197489}"
            ]
          },
          "metadata": {},
          "execution_count": 31
        }
      ]
    },
    {
      "cell_type": "markdown",
      "metadata": {
        "id": "jjT8qI0DNvfY"
      },
      "source": [
        "Logo, para outlook == ensolarado, o nó a ser considerado é umidade. Ao considerarmos apenas os valores de umidade, associados com ensolarado, observamos que a classe jogar sempre é V para umidade = alta e F para umidade = normal:"
      ]
    },
    {
      "cell_type": "code",
      "metadata": {
        "id": "Kn7ChCItNvfZ",
        "colab": {
          "base_uri": "https://localhost:8080/"
        },
        "outputId": "5ef7ff86-7911-4146-d81a-7015a5a1c4ba"
      },
      "source": [
        "wdf2[['ceu', 'umidade', 'jogar']]"
      ],
      "execution_count": null,
      "outputs": [
        {
          "output_type": "execute_result",
          "data": {
            "text/html": [
              "<div>\n",
              "<style scoped>\n",
              "    .dataframe tbody tr th:only-of-type {\n",
              "        vertical-align: middle;\n",
              "    }\n",
              "\n",
              "    .dataframe tbody tr th {\n",
              "        vertical-align: top;\n",
              "    }\n",
              "\n",
              "    .dataframe thead th {\n",
              "        text-align: right;\n",
              "    }\n",
              "</style>\n",
              "<table border=\"1\" class=\"dataframe\">\n",
              "  <thead>\n",
              "    <tr style=\"text-align: right;\">\n",
              "      <th></th>\n",
              "      <th>ceu</th>\n",
              "      <th>umidade</th>\n",
              "      <th>jogar</th>\n",
              "    </tr>\n",
              "  </thead>\n",
              "  <tbody>\n",
              "    <tr>\n",
              "      <th>0</th>\n",
              "      <td>ensolarado</td>\n",
              "      <td>alta</td>\n",
              "      <td>F</td>\n",
              "    </tr>\n",
              "    <tr>\n",
              "      <th>1</th>\n",
              "      <td>ensolarado</td>\n",
              "      <td>alta</td>\n",
              "      <td>F</td>\n",
              "    </tr>\n",
              "    <tr>\n",
              "      <th>7</th>\n",
              "      <td>ensolarado</td>\n",
              "      <td>alta</td>\n",
              "      <td>F</td>\n",
              "    </tr>\n",
              "    <tr>\n",
              "      <th>8</th>\n",
              "      <td>ensolarado</td>\n",
              "      <td>normal</td>\n",
              "      <td>V</td>\n",
              "    </tr>\n",
              "    <tr>\n",
              "      <th>10</th>\n",
              "      <td>ensolarado</td>\n",
              "      <td>normal</td>\n",
              "      <td>V</td>\n",
              "    </tr>\n",
              "  </tbody>\n",
              "</table>\n",
              "</div>"
            ],
            "text/plain": [
              "           ceu umidade jogar\n",
              "0   ensolarado    alta     F\n",
              "1   ensolarado    alta     F\n",
              "7   ensolarado    alta     F\n",
              "8   ensolarado  normal     V\n",
              "10  ensolarado  normal     V"
            ]
          },
          "metadata": {},
          "execution_count": 32
        }
      ]
    },
    {
      "cell_type": "markdown",
      "metadata": {
        "id": "xJPDnAAnNvfZ"
      },
      "source": [
        "Logo, nossa árvore fica:"
      ]
    },
    {
      "cell_type": "code",
      "metadata": {
        "scrolled": true,
        "id": "Qqv-HpJjNvfZ",
        "colab": {
          "base_uri": "https://localhost:8080/"
        },
        "outputId": "5fb2cd3d-7374-4b92-af62-a0279f53cc50"
      },
      "source": [
        "dtdraw(wdf, 'ceu', 'ensolarado', 'umidade')"
      ],
      "execution_count": null,
      "outputs": [
        {
          "output_type": "display_data",
          "data": {
            "image/png": "[encoded data removed]",
            "text/plain": [
              "<IPython.core.display.Image object>"
            ]
          },
          "metadata": {}
        }
      ]
    },
    {
      "cell_type": "markdown",
      "metadata": {
        "id": "XHTem9IzNvfZ"
      },
      "source": [
        "Vamos agora considerar o último caso: ceu = chuvoso. Para este caso, a quantidade de informação básica é dada por:"
      ]
    },
    {
      "cell_type": "code",
      "metadata": {
        "id": "rLF_LPTTNvfZ",
        "colab": {
          "base_uri": "https://localhost:8080/"
        },
        "outputId": "c3dc325b-c39c-4833-bcb6-66d146443907"
      },
      "source": [
        "wdf2 = wdf[wdf.ceu=='chuvoso']\n",
        "wdf2"
      ],
      "execution_count": null,
      "outputs": [
        {
          "output_type": "execute_result",
          "data": {
            "text/html": [
              "<div>\n",
              "<style scoped>\n",
              "    .dataframe tbody tr th:only-of-type {\n",
              "        vertical-align: middle;\n",
              "    }\n",
              "\n",
              "    .dataframe tbody tr th {\n",
              "        vertical-align: top;\n",
              "    }\n",
              "\n",
              "    .dataframe thead th {\n",
              "        text-align: right;\n",
              "    }\n",
              "</style>\n",
              "<table border=\"1\" class=\"dataframe\">\n",
              "  <thead>\n",
              "    <tr style=\"text-align: right;\">\n",
              "      <th></th>\n",
              "      <th>ceu</th>\n",
              "      <th>temp</th>\n",
              "      <th>umidade</th>\n",
              "      <th>vento</th>\n",
              "      <th>jogar</th>\n",
              "    </tr>\n",
              "  </thead>\n",
              "  <tbody>\n",
              "    <tr>\n",
              "      <th>3</th>\n",
              "      <td>chuvoso</td>\n",
              "      <td>media</td>\n",
              "      <td>alta</td>\n",
              "      <td>F</td>\n",
              "      <td>V</td>\n",
              "    </tr>\n",
              "    <tr>\n",
              "      <th>4</th>\n",
              "      <td>chuvoso</td>\n",
              "      <td>fria</td>\n",
              "      <td>normal</td>\n",
              "      <td>F</td>\n",
              "      <td>V</td>\n",
              "    </tr>\n",
              "    <tr>\n",
              "      <th>5</th>\n",
              "      <td>chuvoso</td>\n",
              "      <td>fria</td>\n",
              "      <td>normal</td>\n",
              "      <td>V</td>\n",
              "      <td>F</td>\n",
              "    </tr>\n",
              "    <tr>\n",
              "      <th>9</th>\n",
              "      <td>chuvoso</td>\n",
              "      <td>media</td>\n",
              "      <td>normal</td>\n",
              "      <td>F</td>\n",
              "      <td>V</td>\n",
              "    </tr>\n",
              "    <tr>\n",
              "      <th>13</th>\n",
              "      <td>chuvoso</td>\n",
              "      <td>media</td>\n",
              "      <td>alta</td>\n",
              "      <td>V</td>\n",
              "      <td>F</td>\n",
              "    </tr>\n",
              "  </tbody>\n",
              "</table>\n",
              "</div>"
            ],
            "text/plain": [
              "        ceu   temp umidade vento jogar\n",
              "3   chuvoso  media    alta     F     V\n",
              "4   chuvoso   fria  normal     F     V\n",
              "5   chuvoso   fria  normal     V     F\n",
              "9   chuvoso  media  normal     F     V\n",
              "13  chuvoso  media    alta     V     F"
            ]
          },
          "metadata": {},
          "execution_count": 34
        }
      ]
    },
    {
      "cell_type": "code",
      "metadata": {
        "id": "PPCBzE6gNvfZ",
        "colab": {
          "base_uri": "https://localhost:8080/"
        },
        "outputId": "792b3e93-b215-4fed-a81c-542ad290a652"
      },
      "source": [
        "info_classes = info(wdf[wdf.ceu=='chuvoso'].jogar)\n",
        "info_classes"
      ],
      "execution_count": null,
      "outputs": [
        {
          "output_type": "execute_result",
          "data": {
            "text/plain": [
              "0.9709505944546686"
            ]
          },
          "metadata": {},
          "execution_count": 35
        }
      ]
    },
    {
      "cell_type": "code",
      "metadata": {
        "id": "OwDXSHisNvfa"
      },
      "source": [
        "i=dict([])\n",
        "g=dict([])"
      ],
      "execution_count": null,
      "outputs": []
    },
    {
      "cell_type": "code",
      "metadata": {
        "scrolled": true,
        "id": "x_oElCEPNvfa",
        "colab": {
          "base_uri": "https://localhost:8080/"
        },
        "outputId": "bb9d560c-0b3d-4a68-f4a9-4b610595b2fd"
      },
      "source": [
        "pd.crosstab(wdf2.temp, wdf2.jogar)"
      ],
      "execution_count": null,
      "outputs": [
        {
          "output_type": "execute_result",
          "data": {
            "text/html": [
              "<div>\n",
              "<style scoped>\n",
              "    .dataframe tbody tr th:only-of-type {\n",
              "        vertical-align: middle;\n",
              "    }\n",
              "\n",
              "    .dataframe tbody tr th {\n",
              "        vertical-align: top;\n",
              "    }\n",
              "\n",
              "    .dataframe thead th {\n",
              "        text-align: right;\n",
              "    }\n",
              "</style>\n",
              "<table border=\"1\" class=\"dataframe\">\n",
              "  <thead>\n",
              "    <tr style=\"text-align: right;\">\n",
              "      <th>jogar</th>\n",
              "      <th>F</th>\n",
              "      <th>V</th>\n",
              "    </tr>\n",
              "    <tr>\n",
              "      <th>temp</th>\n",
              "      <th></th>\n",
              "      <th></th>\n",
              "    </tr>\n",
              "  </thead>\n",
              "  <tbody>\n",
              "    <tr>\n",
              "      <th>fria</th>\n",
              "      <td>1</td>\n",
              "      <td>1</td>\n",
              "    </tr>\n",
              "    <tr>\n",
              "      <th>media</th>\n",
              "      <td>1</td>\n",
              "      <td>2</td>\n",
              "    </tr>\n",
              "  </tbody>\n",
              "</table>\n",
              "</div>"
            ],
            "text/plain": [
              "jogar  F  V\n",
              "temp       \n",
              "fria   1  1\n",
              "media  1  2"
            ]
          },
          "metadata": {},
          "execution_count": 37
        }
      ]
    },
    {
      "cell_type": "code",
      "metadata": {
        "id": "KPIhQRd9Nvfa",
        "colab": {
          "base_uri": "https://localhost:8080/"
        },
        "outputId": "fc6525de-e8b6-4f08-997a-04a92f0b12d5"
      },
      "source": [
        "i['temp'] = (2./5.)*info(wdf2[wdf2.temp=='fria'].jogar) + (3./5.)*info(wdf2[wdf2.temp=='media'].jogar)\n",
        "g['temp'] = info_classes - i['temp']\n",
        "g['temp']"
      ],
      "execution_count": null,
      "outputs": [
        {
          "output_type": "execute_result",
          "data": {
            "text/plain": [
              "0.01997309402197489"
            ]
          },
          "metadata": {},
          "execution_count": 38
        }
      ]
    },
    {
      "cell_type": "code",
      "metadata": {
        "id": "ARZR_57nNvfa",
        "colab": {
          "base_uri": "https://localhost:8080/"
        },
        "outputId": "5fabe8cb-df29-4793-ce23-4e4c907bc2fa"
      },
      "source": [
        "pd.crosstab(wdf2.umidade, wdf2.jogar)"
      ],
      "execution_count": null,
      "outputs": [
        {
          "output_type": "execute_result",
          "data": {
            "text/html": [
              "<div>\n",
              "<style scoped>\n",
              "    .dataframe tbody tr th:only-of-type {\n",
              "        vertical-align: middle;\n",
              "    }\n",
              "\n",
              "    .dataframe tbody tr th {\n",
              "        vertical-align: top;\n",
              "    }\n",
              "\n",
              "    .dataframe thead th {\n",
              "        text-align: right;\n",
              "    }\n",
              "</style>\n",
              "<table border=\"1\" class=\"dataframe\">\n",
              "  <thead>\n",
              "    <tr style=\"text-align: right;\">\n",
              "      <th>jogar</th>\n",
              "      <th>F</th>\n",
              "      <th>V</th>\n",
              "    </tr>\n",
              "    <tr>\n",
              "      <th>umidade</th>\n",
              "      <th></th>\n",
              "      <th></th>\n",
              "    </tr>\n",
              "  </thead>\n",
              "  <tbody>\n",
              "    <tr>\n",
              "      <th>alta</th>\n",
              "      <td>1</td>\n",
              "      <td>1</td>\n",
              "    </tr>\n",
              "    <tr>\n",
              "      <th>normal</th>\n",
              "      <td>1</td>\n",
              "      <td>2</td>\n",
              "    </tr>\n",
              "  </tbody>\n",
              "</table>\n",
              "</div>"
            ],
            "text/plain": [
              "jogar    F  V\n",
              "umidade      \n",
              "alta     1  1\n",
              "normal   1  2"
            ]
          },
          "metadata": {},
          "execution_count": 39
        }
      ]
    },
    {
      "cell_type": "code",
      "metadata": {
        "id": "K33MQGeGNvfa",
        "colab": {
          "base_uri": "https://localhost:8080/"
        },
        "outputId": "d560d42e-3198-4f8a-89d7-6b771d04f5fd"
      },
      "source": [
        "i['umidade'] = (2./5.)*info(wdf2[wdf2.umidade=='alta'].jogar) + (3./5.)*info(wdf2[wdf2.umidade=='normal'].jogar)\n",
        "g['umidade'] = info_classes - i['umidade']\n",
        "g['umidade']"
      ],
      "execution_count": null,
      "outputs": [
        {
          "output_type": "execute_result",
          "data": {
            "text/plain": [
              "0.01997309402197489"
            ]
          },
          "metadata": {},
          "execution_count": 40
        }
      ]
    },
    {
      "cell_type": "code",
      "metadata": {
        "scrolled": true,
        "id": "G4H73oxGNvfb",
        "colab": {
          "base_uri": "https://localhost:8080/"
        },
        "outputId": "03f531b2-9b39-45b1-fcda-ec81f0528413"
      },
      "source": [
        "pd.crosstab(wdf2.vento, wdf2.jogar)"
      ],
      "execution_count": null,
      "outputs": [
        {
          "output_type": "execute_result",
          "data": {
            "text/html": [
              "<div>\n",
              "<style scoped>\n",
              "    .dataframe tbody tr th:only-of-type {\n",
              "        vertical-align: middle;\n",
              "    }\n",
              "\n",
              "    .dataframe tbody tr th {\n",
              "        vertical-align: top;\n",
              "    }\n",
              "\n",
              "    .dataframe thead th {\n",
              "        text-align: right;\n",
              "    }\n",
              "</style>\n",
              "<table border=\"1\" class=\"dataframe\">\n",
              "  <thead>\n",
              "    <tr style=\"text-align: right;\">\n",
              "      <th>jogar</th>\n",
              "      <th>F</th>\n",
              "      <th>V</th>\n",
              "    </tr>\n",
              "    <tr>\n",
              "      <th>vento</th>\n",
              "      <th></th>\n",
              "      <th></th>\n",
              "    </tr>\n",
              "  </thead>\n",
              "  <tbody>\n",
              "    <tr>\n",
              "      <th>F</th>\n",
              "      <td>0</td>\n",
              "      <td>3</td>\n",
              "    </tr>\n",
              "    <tr>\n",
              "      <th>V</th>\n",
              "      <td>2</td>\n",
              "      <td>0</td>\n",
              "    </tr>\n",
              "  </tbody>\n",
              "</table>\n",
              "</div>"
            ],
            "text/plain": [
              "jogar  F  V\n",
              "vento      \n",
              "F      0  3\n",
              "V      2  0"
            ]
          },
          "metadata": {},
          "execution_count": 41
        }
      ]
    },
    {
      "cell_type": "code",
      "metadata": {
        "id": "AoQYhKc6Nvfb",
        "colab": {
          "base_uri": "https://localhost:8080/"
        },
        "outputId": "9921d245-fd36-4ca9-f1f0-b604659eb78f"
      },
      "source": [
        "i['vento'] = (3./5.)*info(wdf2[wdf2.vento=='F'].jogar) + (2./5.)*info(wdf2[wdf2.vento=='V'].jogar)\n",
        "g['vento'] = info_classes - i['vento']\n",
        "g['vento']"
      ],
      "execution_count": null,
      "outputs": [
        {
          "output_type": "execute_result",
          "data": {
            "text/plain": [
              "0.9709505944546686"
            ]
          },
          "metadata": {},
          "execution_count": 42
        }
      ]
    },
    {
      "cell_type": "code",
      "metadata": {
        "scrolled": true,
        "id": "-XIBce2-Nvfb",
        "colab": {
          "base_uri": "https://localhost:8080/"
        },
        "outputId": "5a0b2cad-8939-4aca-a1ca-61a2eb866161"
      },
      "source": [
        "g"
      ],
      "execution_count": null,
      "outputs": [
        {
          "output_type": "execute_result",
          "data": {
            "text/plain": [
              "{'temp': 0.01997309402197489,\n",
              " 'umidade': 0.01997309402197489,\n",
              " 'vento': 0.9709505944546686}"
            ]
          },
          "metadata": {},
          "execution_count": 43
        }
      ]
    },
    {
      "cell_type": "markdown",
      "metadata": {
        "id": "TaN4QySbNvfb"
      },
      "source": [
        "Logo, para ceu == chuvoso, o nó a ser considerado é vento. Ao considerarmos apenas os valores de vento, associados com chuvoso, observamos que a classe jogar sempre é V para vento = V e F para Vento = F:"
      ]
    },
    {
      "cell_type": "code",
      "metadata": {
        "id": "Z1lL9_x4Nvfb",
        "colab": {
          "base_uri": "https://localhost:8080/"
        },
        "outputId": "45509c0f-54c9-4c35-9d68-451d5e504540"
      },
      "source": [
        "wdf2[['ceu', 'vento', 'jogar']]"
      ],
      "execution_count": null,
      "outputs": [
        {
          "output_type": "execute_result",
          "data": {
            "text/html": [
              "<div>\n",
              "<style scoped>\n",
              "    .dataframe tbody tr th:only-of-type {\n",
              "        vertical-align: middle;\n",
              "    }\n",
              "\n",
              "    .dataframe tbody tr th {\n",
              "        vertical-align: top;\n",
              "    }\n",
              "\n",
              "    .dataframe thead th {\n",
              "        text-align: right;\n",
              "    }\n",
              "</style>\n",
              "<table border=\"1\" class=\"dataframe\">\n",
              "  <thead>\n",
              "    <tr style=\"text-align: right;\">\n",
              "      <th></th>\n",
              "      <th>ceu</th>\n",
              "      <th>vento</th>\n",
              "      <th>jogar</th>\n",
              "    </tr>\n",
              "  </thead>\n",
              "  <tbody>\n",
              "    <tr>\n",
              "      <th>3</th>\n",
              "      <td>chuvoso</td>\n",
              "      <td>F</td>\n",
              "      <td>V</td>\n",
              "    </tr>\n",
              "    <tr>\n",
              "      <th>4</th>\n",
              "      <td>chuvoso</td>\n",
              "      <td>F</td>\n",
              "      <td>V</td>\n",
              "    </tr>\n",
              "    <tr>\n",
              "      <th>5</th>\n",
              "      <td>chuvoso</td>\n",
              "      <td>V</td>\n",
              "      <td>F</td>\n",
              "    </tr>\n",
              "    <tr>\n",
              "      <th>9</th>\n",
              "      <td>chuvoso</td>\n",
              "      <td>F</td>\n",
              "      <td>V</td>\n",
              "    </tr>\n",
              "    <tr>\n",
              "      <th>13</th>\n",
              "      <td>chuvoso</td>\n",
              "      <td>V</td>\n",
              "      <td>F</td>\n",
              "    </tr>\n",
              "  </tbody>\n",
              "</table>\n",
              "</div>"
            ],
            "text/plain": [
              "        ceu vento jogar\n",
              "3   chuvoso     F     V\n",
              "4   chuvoso     F     V\n",
              "5   chuvoso     V     F\n",
              "9   chuvoso     F     V\n",
              "13  chuvoso     V     F"
            ]
          },
          "metadata": {},
          "execution_count": 44
        }
      ]
    },
    {
      "cell_type": "markdown",
      "metadata": {
        "id": "9XXyTJ0HNvfc"
      },
      "source": [
        "Logo, nossa árvore fica:"
      ]
    },
    {
      "cell_type": "code",
      "metadata": {
        "scrolled": true,
        "id": "yJF-0dacNvfc",
        "colab": {
          "base_uri": "https://localhost:8080/"
        },
        "outputId": "cb702311-b02d-4dca-bf08-28517f847da3"
      },
      "source": [
        "dtdraw(wdf, 'ceu', 'chuvoso', 'vento')"
      ],
      "execution_count": null,
      "outputs": [
        {
          "output_type": "display_data",
          "data": {
            "image/png": "[encoded data removed]",
            "text/plain": [
              "<IPython.core.display.Image object>"
            ]
          },
          "metadata": {}
        }
      ]
    },
    {
      "cell_type": "markdown",
      "metadata": {
        "id": "u2hkqOKyNvfc"
      },
      "source": [
        "#### Conclusões\n",
        "\n",
        "Árvores são modelos _não_ lineares instáveis (ou seja, apresentam alta variância ante a diferentes amostras de treino) que geram modelos legíveis. Aspectos fundamentais sobre métodos de árvore:\n",
        "\n",
        "* Modelo aprendido é compreensível por seres humanos o que é útil em problemas onde explicações são um requisito;\n",
        "* Em geral, este modelo lida bem com variáveis numéricas e categóricas (sem necessidade de vetorização) e é robusto à ausência de normalização; ele é, contudo, sensível a desbalanceamento;\n",
        "* Um _padrão_ é visto como uma regra geral que substitui várias observações e, desta forma, é útil para comprimir a representação original. Neste sentido, aprender está vinculado à noção de minimizar a entropia da informação via organização de dados e remoção de redundâncias;\n",
        "* Algoritmos mais sofisticados como o C45 (J48 no Weka) e o C50 adotam critérios de parada mais sofisticados, que tentam evitar _overfitting_ e tomada de decisões baseadas em números pequenos de amostras. Exemplos são estratégias de poda (que reduzem o tamanho da árvore), tomadas de decisão baseadas em números mínimos de instâncias e impossibilidade de criar árvores com profundidade maior que um certo limite; \n",
        "* A instabilidade destes modelos pode ser mitigada com o uso deles como parte de _ensambles_.\n",
        "* Regras podem ser derivadas diretamente de árvores, o que possibilita toda uma família variante de estratégias, as baseadas em regras;\n",
        "* Se as folhas representarem funções numéricas, o modelo pode ser usado para regressão;\n",
        "* Há uma versão do modelo para aprendizado incremental, as Árvores de Hoeffding;"
      ]
    },
    {
      "cell_type": "markdown",
      "metadata": {
        "id": "4oNQ_PxPSDr5"
      },
      "source": [
        "# Bayesianos - O algoritmo Naive Bayes"
      ]
    },
    {
      "cell_type": "markdown",
      "metadata": {
        "id": "YJdjUsFdNvfc"
      },
      "source": [
        "O algoritmo NaiveBayes usa diretamente a Teoria de Decisão Bayesiana, ou seja, dada a instância $I$ e classes possíveis $C$, a classe mais provável é aquela que minimiza o risco de classificação de acordo com a regra de Bayes, ou seja (onde $\\eta$ é uma constante de normalização):\n",
        "\n",
        "$$\n",
        "\\begin{align}\n",
        "c* & = \\arg \\max_c P(C = c|I) \\\\\n",
        "& = \\arg \\max_c P(I|C = c) \\\\\n",
        "& \\sim \\arg \\max_c P(I|C = c)+ logP(C = c) \n",
        "\\end{align}\n",
        "$$\n",
        "\n",
        "Para estimar $ P(I|C = c)$, o algoritmo assume que se a instância $I$ é representada pelos atributos $a_1, a_2, ..., a_n$, então $P(I|C = c) \\approx \\prod_{i=1}^{n} P(a_i | C = c) \\sim \\sum_{i=1}^{n} \\log P(a_i | C = c)$. Para tanto, é usada uma abordagem de estimativa de risco empírico, ou seja, as probabilidades $P(I|C = c)$ e $P(C = c)$ são estimadas da coleção de treino. A equação resultante se torna:\n",
        "\n",
        "$$\n",
        "\\begin{align}\n",
        "c* \\sim \\arg \\max_c \\big(\\sum_{i=1}^{n} \\log P(a_i | C = c)\\big) + \\log P(C = c)\n",
        "\\end{align}\n",
        "$$\n",
        "\n",
        "Vamos considerar a coleção weather, supondo que os dados que temos correspondem a uma amostra (de treino) de uma população maior de jogos. \n",
        "\n",
        "Primeiro, estimamos as probabilidades $P(jogar=V)$ e $P(jogar=F)$ diretamente da distribuição da variável jogar:"
      ]
    },
    {
      "cell_type": "code",
      "metadata": {
        "id": "zqqGloraNvfd",
        "colab": {
          "base_uri": "https://localhost:8080/"
        },
        "outputId": "2f907eda-8206-42e8-a0a0-01e4b31357cc"
      },
      "source": [
        "wdf.jogar.value_counts().to_dict()"
      ],
      "execution_count": null,
      "outputs": [
        {
          "output_type": "execute_result",
          "data": {
            "text/plain": [
              "{'F': 5, 'V': 9}"
            ]
          },
          "metadata": {},
          "execution_count": 46
        }
      ]
    },
    {
      "cell_type": "markdown",
      "metadata": {
        "id": "PsGzrrmiNvfd"
      },
      "source": [
        "Logo, $P(jogar=V) = \\frac{9}{9+5} = 0.64$ e $P(jogar=F) = \\frac{5}{9+5} = 0.36$.\n",
        "\n",
        "No caso de $P(a_i | C = c)$, podemos fazer estimativas apartir das ocorrências conjuntas de $a_i$ e $C$. Por exemplo, para ceu, temos:"
      ]
    },
    {
      "cell_type": "code",
      "metadata": {
        "scrolled": true,
        "id": "9_Pqso52Nvfd",
        "colab": {
          "base_uri": "https://localhost:8080/"
        },
        "outputId": "6d708e0f-357f-40b3-cc2e-ce42e29517e1"
      },
      "source": [
        "pd.crosstab(wdf.ceu, wdf.jogar, margins=True)"
      ],
      "execution_count": null,
      "outputs": [
        {
          "output_type": "execute_result",
          "data": {
            "text/html": [
              "<div>\n",
              "<style scoped>\n",
              "    .dataframe tbody tr th:only-of-type {\n",
              "        vertical-align: middle;\n",
              "    }\n",
              "\n",
              "    .dataframe tbody tr th {\n",
              "        vertical-align: top;\n",
              "    }\n",
              "\n",
              "    .dataframe thead th {\n",
              "        text-align: right;\n",
              "    }\n",
              "</style>\n",
              "<table border=\"1\" class=\"dataframe\">\n",
              "  <thead>\n",
              "    <tr style=\"text-align: right;\">\n",
              "      <th>jogar</th>\n",
              "      <th>F</th>\n",
              "      <th>V</th>\n",
              "      <th>All</th>\n",
              "    </tr>\n",
              "    <tr>\n",
              "      <th>ceu</th>\n",
              "      <th></th>\n",
              "      <th></th>\n",
              "      <th></th>\n",
              "    </tr>\n",
              "  </thead>\n",
              "  <tbody>\n",
              "    <tr>\n",
              "      <th>chuvoso</th>\n",
              "      <td>2</td>\n",
              "      <td>3</td>\n",
              "      <td>5</td>\n",
              "    </tr>\n",
              "    <tr>\n",
              "      <th>ensolarado</th>\n",
              "      <td>3</td>\n",
              "      <td>2</td>\n",
              "      <td>5</td>\n",
              "    </tr>\n",
              "    <tr>\n",
              "      <th>nublado</th>\n",
              "      <td>0</td>\n",
              "      <td>4</td>\n",
              "      <td>4</td>\n",
              "    </tr>\n",
              "    <tr>\n",
              "      <th>All</th>\n",
              "      <td>5</td>\n",
              "      <td>9</td>\n",
              "      <td>14</td>\n",
              "    </tr>\n",
              "  </tbody>\n",
              "</table>\n",
              "</div>"
            ],
            "text/plain": [
              "jogar       F  V  All\n",
              "ceu                  \n",
              "chuvoso     2  3    5\n",
              "ensolarado  3  2    5\n",
              "nublado     0  4    4\n",
              "All         5  9   14"
            ]
          },
          "metadata": {},
          "execution_count": 47
        }
      ]
    },
    {
      "cell_type": "markdown",
      "metadata": {
        "id": "zPyacwwFNvfd"
      },
      "source": [
        "Desta tabela, por exemplo, podemos estimar $P(ceu = nublado~|~jogar = V) = 4/9 = 0.44$. Da mesma forma, $P(ceu = nublado~|~jogar = F) = 0/5 = 0$. \n",
        "\n",
        "Para este segundo caso, contudo, note que estamos estimando do treino que é impossível se observar um jogo de tênis com o céu nublado. De fato, desde que estamos fazendo estimativas com base em uma amostra da população real, não deveríamos ser tão rigorosos e supor que a probabilidade de um evento que não vimos é zero. Podemos imaginar que este é apenas um evento raro, mas não necessariamente impossível. Assim, devemos considerar a axistência de uma pequena probabilidade para o evento. Como regra geral, para evitar probabilidades nulas, vamos aplicar alguma técnica de suavização: por exemplo, adicionar 1 a todos os contadores, o que é conhecido como técnica de suavização de Laplace:"
      ]
    },
    {
      "cell_type": "code",
      "metadata": {
        "scrolled": false,
        "id": "LwAoR8EANvfd",
        "colab": {
          "base_uri": "https://localhost:8080/"
        },
        "outputId": "c9b80893-10fc-4b41-a31f-8257de194e1f"
      },
      "source": [
        "original = pd.crosstab(wdf.ceu, wdf.jogar)\n",
        "apos_laplace = pd.crosstab(wdf.ceu, wdf.jogar) + 1\n",
        "display_side_by_side(original, apos_laplace)"
      ],
      "execution_count": null,
      "outputs": [
        {
          "output_type": "display_data",
          "data": {
            "text/html": [
              "<table style=\"display:inline\" border=\"1\" class=\"dataframe\">\n",
              "  <thead>\n",
              "    <tr style=\"text-align: right;\">\n",
              "      <th>jogar</th>\n",
              "      <th>F</th>\n",
              "      <th>V</th>\n",
              "    </tr>\n",
              "    <tr>\n",
              "      <th>ceu</th>\n",
              "      <th></th>\n",
              "      <th></th>\n",
              "    </tr>\n",
              "  </thead>\n",
              "  <tbody>\n",
              "    <tr>\n",
              "      <th>chuvoso</th>\n",
              "      <td>2</td>\n",
              "      <td>3</td>\n",
              "    </tr>\n",
              "    <tr>\n",
              "      <th>ensolarado</th>\n",
              "      <td>3</td>\n",
              "      <td>2</td>\n",
              "    </tr>\n",
              "    <tr>\n",
              "      <th>nublado</th>\n",
              "      <td>0</td>\n",
              "      <td>4</td>\n",
              "    </tr>\n",
              "  </tbody>\n",
              "</table style=\"display:inline\"><table style=\"display:inline\" border=\"1\" class=\"dataframe\">\n",
              "  <thead>\n",
              "    <tr style=\"text-align: right;\">\n",
              "      <th>jogar</th>\n",
              "      <th>F</th>\n",
              "      <th>V</th>\n",
              "    </tr>\n",
              "    <tr>\n",
              "      <th>ceu</th>\n",
              "      <th></th>\n",
              "      <th></th>\n",
              "    </tr>\n",
              "  </thead>\n",
              "  <tbody>\n",
              "    <tr>\n",
              "      <th>chuvoso</th>\n",
              "      <td>3</td>\n",
              "      <td>4</td>\n",
              "    </tr>\n",
              "    <tr>\n",
              "      <th>ensolarado</th>\n",
              "      <td>4</td>\n",
              "      <td>3</td>\n",
              "    </tr>\n",
              "    <tr>\n",
              "      <th>nublado</th>\n",
              "      <td>1</td>\n",
              "      <td>5</td>\n",
              "    </tr>\n",
              "  </tbody>\n",
              "</table style=\"display:inline\">"
            ]
          },
          "metadata": {}
        }
      ]
    },
    {
      "cell_type": "code",
      "metadata": {
        "id": "Md5IUUIJNvfe"
      },
      "source": [
        "apos_laplace['P(ceu|F)'] = apos_laplace['F'] / apos_laplace['F'].sum()\n",
        "apos_laplace['P(ceu|V)'] = apos_laplace['V'] / apos_laplace['V'].sum()"
      ],
      "execution_count": null,
      "outputs": []
    },
    {
      "cell_type": "code",
      "metadata": {
        "id": "kcxnpEd6Nvfe",
        "colab": {
          "base_uri": "https://localhost:8080/"
        },
        "outputId": "46e673b7-ebfd-4668-8bb8-5a8d746a1b2d"
      },
      "source": [
        "apos_laplace"
      ],
      "execution_count": null,
      "outputs": [
        {
          "output_type": "execute_result",
          "data": {
            "text/html": [
              "<div>\n",
              "<style scoped>\n",
              "    .dataframe tbody tr th:only-of-type {\n",
              "        vertical-align: middle;\n",
              "    }\n",
              "\n",
              "    .dataframe tbody tr th {\n",
              "        vertical-align: top;\n",
              "    }\n",
              "\n",
              "    .dataframe thead th {\n",
              "        text-align: right;\n",
              "    }\n",
              "</style>\n",
              "<table border=\"1\" class=\"dataframe\">\n",
              "  <thead>\n",
              "    <tr style=\"text-align: right;\">\n",
              "      <th>jogar</th>\n",
              "      <th>F</th>\n",
              "      <th>V</th>\n",
              "      <th>P(ceu|F)</th>\n",
              "      <th>P(ceu|V)</th>\n",
              "    </tr>\n",
              "    <tr>\n",
              "      <th>ceu</th>\n",
              "      <th></th>\n",
              "      <th></th>\n",
              "      <th></th>\n",
              "      <th></th>\n",
              "    </tr>\n",
              "  </thead>\n",
              "  <tbody>\n",
              "    <tr>\n",
              "      <th>chuvoso</th>\n",
              "      <td>3</td>\n",
              "      <td>4</td>\n",
              "      <td>0.375</td>\n",
              "      <td>0.333333</td>\n",
              "    </tr>\n",
              "    <tr>\n",
              "      <th>ensolarado</th>\n",
              "      <td>4</td>\n",
              "      <td>3</td>\n",
              "      <td>0.500</td>\n",
              "      <td>0.250000</td>\n",
              "    </tr>\n",
              "    <tr>\n",
              "      <th>nublado</th>\n",
              "      <td>1</td>\n",
              "      <td>5</td>\n",
              "      <td>0.125</td>\n",
              "      <td>0.416667</td>\n",
              "    </tr>\n",
              "  </tbody>\n",
              "</table>\n",
              "</div>"
            ],
            "text/plain": [
              "jogar       F  V  P(ceu|F)  P(ceu|V)\n",
              "ceu                                 \n",
              "chuvoso     3  4     0.375  0.333333\n",
              "ensolarado  4  3     0.500  0.250000\n",
              "nublado     1  5     0.125  0.416667"
            ]
          },
          "metadata": {},
          "execution_count": 50
        }
      ]
    },
    {
      "cell_type": "markdown",
      "metadata": {
        "id": "SKzxq4niNvfe"
      },
      "source": [
        "Uma questão interessante é se há ou não necessidade de aplicar Laplace às estimativas de classes. Se aplicarmos Laplace, temos:"
      ]
    },
    {
      "cell_type": "markdown",
      "metadata": {
        "id": "NgM0hFYrNvfe"
      },
      "source": [
        "$P(jogar=V) = \\frac{9+1}{(9+1)+(5+1)} = 0.625$ e $P(jogar=F) = \\frac{5+1}{(9+1)+(5+1)} = 0.375$."
      ]
    },
    {
      "cell_type": "code",
      "metadata": {
        "id": "C1XHH1KwNvfe",
        "colab": {
          "base_uri": "https://localhost:8080/"
        },
        "outputId": "2a9c099d-fddc-4f76-8eff-89c0555bc220"
      },
      "source": [
        "wdf.jogar.value_counts(normalize=True)['V']"
      ],
      "execution_count": null,
      "outputs": [
        {
          "output_type": "execute_result",
          "data": {
            "text/plain": [
              "0.6428571428571429"
            ]
          },
          "metadata": {},
          "execution_count": 51
        }
      ]
    },
    {
      "cell_type": "code",
      "metadata": {
        "id": "PIVY_7ZzNvff"
      },
      "source": [
        "P = CondProbTable([])\n",
        "P['jogar=V'] = wdf.jogar.value_counts(normalize=True)['V']\n",
        "P['jogar=F'] = wdf.jogar.value_counts(normalize=True)['F']"
      ],
      "execution_count": null,
      "outputs": []
    },
    {
      "cell_type": "markdown",
      "metadata": {
        "id": "edB9UIIANvff"
      },
      "source": [
        "Se aplicarmos o que vimos até agora para todas as variáveis, temos (desta vez usando meu método `dist_conjunta`):"
      ]
    },
    {
      "cell_type": "code",
      "metadata": {
        "scrolled": true,
        "id": "vH7vlWWaNvff",
        "colab": {
          "base_uri": "https://localhost:8080/"
        },
        "outputId": "d4838401-7779-40d3-c1a8-248d612ce212"
      },
      "source": [
        "for c in ['ceu', 'temp', 'umidade', 'vento']:\n",
        "    P = dist_conjunta(wdf[c], wdf.jogar, laplace = 1, normalize = True, prev=P)"
      ],
      "execution_count": null,
      "outputs": [
        {
          "output_type": "display_data",
          "data": {
            "text/html": [
              "<div>\n",
              "<style scoped>\n",
              "    .dataframe tbody tr th:only-of-type {\n",
              "        vertical-align: middle;\n",
              "    }\n",
              "\n",
              "    .dataframe tbody tr th {\n",
              "        vertical-align: top;\n",
              "    }\n",
              "\n",
              "    .dataframe thead th {\n",
              "        text-align: right;\n",
              "    }\n",
              "</style>\n",
              "<table border=\"1\" class=\"dataframe\">\n",
              "  <thead>\n",
              "    <tr style=\"text-align: right;\">\n",
              "      <th>jogar</th>\n",
              "      <th>jogar=F</th>\n",
              "      <th>jogar=V</th>\n",
              "    </tr>\n",
              "  </thead>\n",
              "  <tbody>\n",
              "    <tr>\n",
              "      <th>ceu=chuvoso</th>\n",
              "      <td>0.375</td>\n",
              "      <td>0.333333</td>\n",
              "    </tr>\n",
              "    <tr>\n",
              "      <th>ceu=ensolarado</th>\n",
              "      <td>0.500</td>\n",
              "      <td>0.250000</td>\n",
              "    </tr>\n",
              "    <tr>\n",
              "      <th>ceu=nublado</th>\n",
              "      <td>0.125</td>\n",
              "      <td>0.416667</td>\n",
              "    </tr>\n",
              "  </tbody>\n",
              "</table>\n",
              "</div>"
            ],
            "text/plain": [
              "jogar           jogar=F   jogar=V\n",
              "ceu=chuvoso       0.375  0.333333\n",
              "ceu=ensolarado    0.500  0.250000\n",
              "ceu=nublado       0.125  0.416667"
            ]
          },
          "metadata": {}
        },
        {
          "output_type": "display_data",
          "data": {
            "text/html": [
              "<div>\n",
              "<style scoped>\n",
              "    .dataframe tbody tr th:only-of-type {\n",
              "        vertical-align: middle;\n",
              "    }\n",
              "\n",
              "    .dataframe tbody tr th {\n",
              "        vertical-align: top;\n",
              "    }\n",
              "\n",
              "    .dataframe thead th {\n",
              "        text-align: right;\n",
              "    }\n",
              "</style>\n",
              "<table border=\"1\" class=\"dataframe\">\n",
              "  <thead>\n",
              "    <tr style=\"text-align: right;\">\n",
              "      <th>jogar</th>\n",
              "      <th>jogar=F</th>\n",
              "      <th>jogar=V</th>\n",
              "    </tr>\n",
              "  </thead>\n",
              "  <tbody>\n",
              "    <tr>\n",
              "      <th>temp=fria</th>\n",
              "      <td>0.250</td>\n",
              "      <td>0.333333</td>\n",
              "    </tr>\n",
              "    <tr>\n",
              "      <th>temp=media</th>\n",
              "      <td>0.375</td>\n",
              "      <td>0.416667</td>\n",
              "    </tr>\n",
              "    <tr>\n",
              "      <th>temp=quente</th>\n",
              "      <td>0.375</td>\n",
              "      <td>0.250000</td>\n",
              "    </tr>\n",
              "  </tbody>\n",
              "</table>\n",
              "</div>"
            ],
            "text/plain": [
              "jogar        jogar=F   jogar=V\n",
              "temp=fria      0.250  0.333333\n",
              "temp=media     0.375  0.416667\n",
              "temp=quente    0.375  0.250000"
            ]
          },
          "metadata": {}
        },
        {
          "output_type": "display_data",
          "data": {
            "text/html": [
              "<div>\n",
              "<style scoped>\n",
              "    .dataframe tbody tr th:only-of-type {\n",
              "        vertical-align: middle;\n",
              "    }\n",
              "\n",
              "    .dataframe tbody tr th {\n",
              "        vertical-align: top;\n",
              "    }\n",
              "\n",
              "    .dataframe thead th {\n",
              "        text-align: right;\n",
              "    }\n",
              "</style>\n",
              "<table border=\"1\" class=\"dataframe\">\n",
              "  <thead>\n",
              "    <tr style=\"text-align: right;\">\n",
              "      <th>jogar</th>\n",
              "      <th>jogar=F</th>\n",
              "      <th>jogar=V</th>\n",
              "    </tr>\n",
              "  </thead>\n",
              "  <tbody>\n",
              "    <tr>\n",
              "      <th>umidade=alta</th>\n",
              "      <td>0.714286</td>\n",
              "      <td>0.363636</td>\n",
              "    </tr>\n",
              "    <tr>\n",
              "      <th>umidade=normal</th>\n",
              "      <td>0.285714</td>\n",
              "      <td>0.636364</td>\n",
              "    </tr>\n",
              "  </tbody>\n",
              "</table>\n",
              "</div>"
            ],
            "text/plain": [
              "jogar            jogar=F   jogar=V\n",
              "umidade=alta    0.714286  0.363636\n",
              "umidade=normal  0.285714  0.636364"
            ]
          },
          "metadata": {}
        },
        {
          "output_type": "display_data",
          "data": {
            "text/html": [
              "<div>\n",
              "<style scoped>\n",
              "    .dataframe tbody tr th:only-of-type {\n",
              "        vertical-align: middle;\n",
              "    }\n",
              "\n",
              "    .dataframe tbody tr th {\n",
              "        vertical-align: top;\n",
              "    }\n",
              "\n",
              "    .dataframe thead th {\n",
              "        text-align: right;\n",
              "    }\n",
              "</style>\n",
              "<table border=\"1\" class=\"dataframe\">\n",
              "  <thead>\n",
              "    <tr style=\"text-align: right;\">\n",
              "      <th>jogar</th>\n",
              "      <th>jogar=F</th>\n",
              "      <th>jogar=V</th>\n",
              "    </tr>\n",
              "  </thead>\n",
              "  <tbody>\n",
              "    <tr>\n",
              "      <th>vento=F</th>\n",
              "      <td>0.428571</td>\n",
              "      <td>0.636364</td>\n",
              "    </tr>\n",
              "    <tr>\n",
              "      <th>vento=V</th>\n",
              "      <td>0.571429</td>\n",
              "      <td>0.363636</td>\n",
              "    </tr>\n",
              "  </tbody>\n",
              "</table>\n",
              "</div>"
            ],
            "text/plain": [
              "jogar     jogar=F   jogar=V\n",
              "vento=F  0.428571  0.636364\n",
              "vento=V  0.571429  0.363636"
            ]
          },
          "metadata": {}
        }
      ]
    },
    {
      "cell_type": "markdown",
      "metadata": {
        "id": "93xIGdQlNvff"
      },
      "source": [
        "Com todas as probabilidades estimadas do treino, podemos fazer inferência para novos casos de teste. Por exemplo, qual a probabilidade $P(jogar~|~I)$ para $I$ dado por:\n",
        "\n",
        "$I$ = {ceu = ensolarado, temp = fria, umidade = alta, vento = V}\n",
        "\n",
        "Para tanto precisamos calcular $P(jogar~|~I)=\\eta~P(I~|~jogar)P(jogar)$:"
      ]
    },
    {
      "cell_type": "code",
      "metadata": {
        "scrolled": true,
        "id": "r5zQLPPXNvfg"
      },
      "source": [
        "P['jogar=V|I'] = (P['ceu=ensolarado|jogar=V'] * \n",
        "                  P['temp=fria|jogar=V'] *\n",
        "                  P['umidade=alta|jogar=V'] *\n",
        "                  P['vento=V|jogar=V'] * \n",
        "                  P['jogar=V'])\n",
        "P['jogar=F|I'] = (P['ceu=ensolarado|jogar=F'] * \n",
        "                  P['temp=fria|jogar=F'] *\n",
        "                  P['umidade=alta|jogar=F'] *\n",
        "                  P['vento=V|jogar=F'] * \n",
        "                  P['jogar=F'])\n",
        "eta = 1 / (P['jogar=V|I'] + P['jogar=F|I'])"
      ],
      "execution_count": null,
      "outputs": []
    },
    {
      "cell_type": "code",
      "metadata": {
        "id": "ZmZzOl0DNvfg",
        "colab": {
          "base_uri": "https://localhost:8080/"
        },
        "outputId": "0f6269e8-bb34-432a-ecaa-fe00ddeef465"
      },
      "source": [
        "eta*P['jogar=V|I'], eta*P['jogar=F|I']"
      ],
      "execution_count": null,
      "outputs": [
        {
          "output_type": "execute_result",
          "data": {
            "text/plain": [
              "(0.27993334920257085, 0.7200666507974292)"
            ]
          },
          "metadata": {},
          "execution_count": 55
        }
      ]
    },
    {
      "cell_type": "markdown",
      "metadata": {
        "id": "Pf8s3sLxNvfg"
      },
      "source": [
        "Como podemos ver $P(I|jogar=V) < P(I|jogar=F)$. Logo, dado $I$, é mais provável que _não_ haja jogo."
      ]
    },
    {
      "cell_type": "markdown",
      "metadata": {
        "id": "HwCLj3_oNvfg"
      },
      "source": [
        "#### E para o caso de atributos numericos? use uma estimativa Gaussiana\n",
        "\n",
        "Para atributos numéricos, uma estimativa uniforme não é adequada, uma vez que, para cada valor possível, ela será baseada em uma pequena amostra. Uma alternativa é usar uma estimativa contínua. Por exemplo, supondo que a variável numérica segue uma distribuição Gaussiana, podemos obter estimativas de probabilidade para os valores usando a função de desensidade de probabilidade da distribuição normal:\n",
        "\n",
        "$$f(x|\\mu, \\sigma) = \\frac{1}{\\sqrt{2 \\pi \\sigma^2}} e^{\\frac{-(x-\\mu)^2}{2 \\sigma^2}}$$\n",
        "\n",
        "Em python:"
      ]
    },
    {
      "cell_type": "code",
      "metadata": {
        "id": "uNych43lNvfg"
      },
      "source": [
        "gaussian_prob = lambda x, mu, sigma: 1./np.sqrt(2. * np.pi * sigma**2) * np.exp(-(x-mu)**2/(2*sigma**2))"
      ],
      "execution_count": null,
      "outputs": []
    },
    {
      "cell_type": "markdown",
      "metadata": {
        "id": "ROQ59VYPNvfg"
      },
      "source": [
        "Por exemplo, para o exemplo abaixo:"
      ]
    },
    {
      "cell_type": "code",
      "metadata": {
        "id": "FkwQVJ_eNvfg"
      },
      "source": [
        "weathern = {'ceu': ['ensolarado', 'ensolarado', 'nublado', 'chuvoso', 'chuvoso', 'chuvoso', 'nublado', \n",
        "                     'ensolarado', 'ensolarado', 'chuvoso', 'ensolarado', 'nublado', 'nublado', 'chuvoso'], \n",
        "          'temp': [85.0, 80.0, 83.0, 70.0, 68.0, 65.0, 64.0, 72.0, \n",
        "                          69.0, 75.0, 75.0, 72.0, 81.0, 71.0],\n",
        "          'umidade': [85.0, 90.0, 86.0, 96.0, 80.0, 70.0, 65.0, \n",
        "                       95.0, 70.0, 80.0, 70.0, 90.0, 75.0, 91.0],\n",
        "          'vento': ['F', 'V', 'F', 'F', 'F', 'V', 'V', \n",
        "                  'F', 'F', 'F', 'V', 'V', 'F', 'V'],\n",
        "          'jogar': ['F', 'F', 'V', 'V', 'V', 'F', 'V', \n",
        "                 'F', 'V', 'V', 'V', 'V', 'V', 'F']}\n",
        "wndf = pd.DataFrame(weathern)[['ceu', 'temp', 'umidade', 'vento', 'jogar']]"
      ],
      "execution_count": null,
      "outputs": []
    },
    {
      "cell_type": "code",
      "metadata": {
        "scrolled": false,
        "id": "xyZT6Z1dNvfh",
        "colab": {
          "base_uri": "https://localhost:8080/"
        },
        "outputId": "b0592db0-fba7-4aa8-fb28-c777a7c21a01"
      },
      "source": [
        "wndf"
      ],
      "execution_count": null,
      "outputs": [
        {
          "output_type": "execute_result",
          "data": {
            "text/html": [
              "<div>\n",
              "<style scoped>\n",
              "    .dataframe tbody tr th:only-of-type {\n",
              "        vertical-align: middle;\n",
              "    }\n",
              "\n",
              "    .dataframe tbody tr th {\n",
              "        vertical-align: top;\n",
              "    }\n",
              "\n",
              "    .dataframe thead th {\n",
              "        text-align: right;\n",
              "    }\n",
              "</style>\n",
              "<table border=\"1\" class=\"dataframe\">\n",
              "  <thead>\n",
              "    <tr style=\"text-align: right;\">\n",
              "      <th></th>\n",
              "      <th>ceu</th>\n",
              "      <th>temp</th>\n",
              "      <th>umidade</th>\n",
              "      <th>vento</th>\n",
              "      <th>jogar</th>\n",
              "    </tr>\n",
              "  </thead>\n",
              "  <tbody>\n",
              "    <tr>\n",
              "      <th>0</th>\n",
              "      <td>ensolarado</td>\n",
              "      <td>85.0</td>\n",
              "      <td>85.0</td>\n",
              "      <td>F</td>\n",
              "      <td>F</td>\n",
              "    </tr>\n",
              "    <tr>\n",
              "      <th>1</th>\n",
              "      <td>ensolarado</td>\n",
              "      <td>80.0</td>\n",
              "      <td>90.0</td>\n",
              "      <td>V</td>\n",
              "      <td>F</td>\n",
              "    </tr>\n",
              "    <tr>\n",
              "      <th>2</th>\n",
              "      <td>nublado</td>\n",
              "      <td>83.0</td>\n",
              "      <td>86.0</td>\n",
              "      <td>F</td>\n",
              "      <td>V</td>\n",
              "    </tr>\n",
              "    <tr>\n",
              "      <th>3</th>\n",
              "      <td>chuvoso</td>\n",
              "      <td>70.0</td>\n",
              "      <td>96.0</td>\n",
              "      <td>F</td>\n",
              "      <td>V</td>\n",
              "    </tr>\n",
              "    <tr>\n",
              "      <th>4</th>\n",
              "      <td>chuvoso</td>\n",
              "      <td>68.0</td>\n",
              "      <td>80.0</td>\n",
              "      <td>F</td>\n",
              "      <td>V</td>\n",
              "    </tr>\n",
              "    <tr>\n",
              "      <th>5</th>\n",
              "      <td>chuvoso</td>\n",
              "      <td>65.0</td>\n",
              "      <td>70.0</td>\n",
              "      <td>V</td>\n",
              "      <td>F</td>\n",
              "    </tr>\n",
              "    <tr>\n",
              "      <th>6</th>\n",
              "      <td>nublado</td>\n",
              "      <td>64.0</td>\n",
              "      <td>65.0</td>\n",
              "      <td>V</td>\n",
              "      <td>V</td>\n",
              "    </tr>\n",
              "    <tr>\n",
              "      <th>7</th>\n",
              "      <td>ensolarado</td>\n",
              "      <td>72.0</td>\n",
              "      <td>95.0</td>\n",
              "      <td>F</td>\n",
              "      <td>F</td>\n",
              "    </tr>\n",
              "    <tr>\n",
              "      <th>8</th>\n",
              "      <td>ensolarado</td>\n",
              "      <td>69.0</td>\n",
              "      <td>70.0</td>\n",
              "      <td>F</td>\n",
              "      <td>V</td>\n",
              "    </tr>\n",
              "    <tr>\n",
              "      <th>9</th>\n",
              "      <td>chuvoso</td>\n",
              "      <td>75.0</td>\n",
              "      <td>80.0</td>\n",
              "      <td>F</td>\n",
              "      <td>V</td>\n",
              "    </tr>\n",
              "    <tr>\n",
              "      <th>10</th>\n",
              "      <td>ensolarado</td>\n",
              "      <td>75.0</td>\n",
              "      <td>70.0</td>\n",
              "      <td>V</td>\n",
              "      <td>V</td>\n",
              "    </tr>\n",
              "    <tr>\n",
              "      <th>11</th>\n",
              "      <td>nublado</td>\n",
              "      <td>72.0</td>\n",
              "      <td>90.0</td>\n",
              "      <td>V</td>\n",
              "      <td>V</td>\n",
              "    </tr>\n",
              "    <tr>\n",
              "      <th>12</th>\n",
              "      <td>nublado</td>\n",
              "      <td>81.0</td>\n",
              "      <td>75.0</td>\n",
              "      <td>F</td>\n",
              "      <td>V</td>\n",
              "    </tr>\n",
              "    <tr>\n",
              "      <th>13</th>\n",
              "      <td>chuvoso</td>\n",
              "      <td>71.0</td>\n",
              "      <td>91.0</td>\n",
              "      <td>V</td>\n",
              "      <td>F</td>\n",
              "    </tr>\n",
              "  </tbody>\n",
              "</table>\n",
              "</div>"
            ],
            "text/plain": [
              "           ceu  temp  umidade vento jogar\n",
              "0   ensolarado  85.0     85.0     F     F\n",
              "1   ensolarado  80.0     90.0     V     F\n",
              "2      nublado  83.0     86.0     F     V\n",
              "3      chuvoso  70.0     96.0     F     V\n",
              "4      chuvoso  68.0     80.0     F     V\n",
              "5      chuvoso  65.0     70.0     V     F\n",
              "6      nublado  64.0     65.0     V     V\n",
              "7   ensolarado  72.0     95.0     F     F\n",
              "8   ensolarado  69.0     70.0     F     V\n",
              "9      chuvoso  75.0     80.0     F     V\n",
              "10  ensolarado  75.0     70.0     V     V\n",
              "11     nublado  72.0     90.0     V     V\n",
              "12     nublado  81.0     75.0     F     V\n",
              "13     chuvoso  71.0     91.0     V     F"
            ]
          },
          "metadata": {},
          "execution_count": 58
        }
      ]
    },
    {
      "cell_type": "markdown",
      "metadata": {
        "id": "3GaqFyJxNvfh"
      },
      "source": [
        "Podemos estimar os seguintes parâmetros $\\mu$ e $\\sigma$ para os atributos temperatura e umidade:"
      ]
    },
    {
      "cell_type": "code",
      "metadata": {
        "id": "hJUa7tUVNvfh"
      },
      "source": [
        "tempFmu, tempFsigma = wndf[wndf.jogar=='F'].temp.mean(), wndf[wndf.jogar=='F'].temp.std()\n",
        "tempVmu, tempVsigma = wndf[wndf.jogar=='V'].temp.mean(), wndf[wndf.jogar=='V'].temp.std()"
      ],
      "execution_count": null,
      "outputs": []
    },
    {
      "cell_type": "markdown",
      "metadata": {
        "id": "tF4H_XwNNvfh"
      },
      "source": [
        "O que representariam as seguintes distribuições, considerando o caso particular da temperatura:"
      ]
    },
    {
      "cell_type": "code",
      "metadata": {
        "id": "h3go8k3hNvfh",
        "colab": {
          "base_uri": "https://localhost:8080/"
        },
        "outputId": "2a582b65-ab62-4b26-e58d-ffc3a9d319a0"
      },
      "source": [
        "x = np.linspace(45, 110)\n",
        "plt.plot(x, stats.norm.pdf(x, tempFmu, tempFsigma), label='P( temp | jogar=F )')\n",
        "plt.plot(x, stats.norm.pdf(x, tempVmu, tempVsigma), label='P( temp | jogar=V )')\n",
        "plt.axvline(x=70, linestyle = '--')\n",
        "plt.legend()"
      ],
      "execution_count": null,
      "outputs": [
        {
          "output_type": "execute_result",
          "data": {
            "text/plain": [
              "<matplotlib.legend.Legend at 0x7f1f1ff14790>"
            ]
          },
          "metadata": {},
          "execution_count": 60
        },
        {
          "output_type": "display_data",
          "data": {
            "image/png": "[encoded data removed]",
            "text/plain": [
              "<Figure size 432x288 with 1 Axes>"
            ]
          },
          "metadata": {
            "needs_background": "light"
          }
        }
      ]
    },
    {
      "cell_type": "code",
      "metadata": {
        "scrolled": true,
        "id": "e9UmhAibNvfi",
        "colab": {
          "base_uri": "https://localhost:8080/"
        },
        "outputId": "58dff487-22bb-4bf9-8a3a-5ec31ed38569"
      },
      "source": [
        "gaussian_prob(70, tempFmu, tempFsigma), gaussian_prob(70, tempVmu, tempVsigma),"
      ],
      "execution_count": null,
      "outputs": [
        {
          "output_type": "execute_result",
          "data": {
            "text/plain": [
              "(0.04264937407110744, 0.05748951672082569)"
            ]
          },
          "metadata": {},
          "execution_count": 61
        }
      ]
    },
    {
      "cell_type": "markdown",
      "metadata": {
        "id": "7yGJU79_Nvfi"
      },
      "source": [
        "Neste caso, para a temperatura 70 graus, é mais provável jogar = F. Para um exemplo mais complexo, vamos considerar o caso:\n",
        "\n",
        "$I$ = {ceu = ensolarado, temp = 73, umidade = 90, vento = V}\n",
        "\n",
        "Primeiro estimamos os parâmetros para temp = 73 e umidade = 90 e, em seguida, suas probabilidades:"
      ]
    },
    {
      "cell_type": "code",
      "metadata": {
        "id": "9SOZs1FPNvfj",
        "colab": {
          "base_uri": "https://localhost:8080/"
        },
        "outputId": "bdd59fcd-e7ca-4648-ecec-076c2ede434e"
      },
      "source": [
        "tempFmu, tempFsigma = wndf[wndf.jogar=='F'].temp.mean(), wndf[wndf.jogar=='F'].temp.std()\n",
        "tempVmu, tempVsigma = wndf[wndf.jogar=='V'].temp.mean(), wndf[wndf.jogar=='V'].temp.std()\n",
        "\n",
        "umFmu, umFsigma = wndf[wndf.jogar=='F'].umidade.mean(), wndf[wndf.jogar=='F'].umidade.std()\n",
        "umVmu, umVsigma = wndf[wndf.jogar=='V'].umidade.mean(), wndf[wndf.jogar=='V'].umidade.std()\n",
        "\n",
        "print(gaussian_prob(73, tempFmu, tempFsigma), gaussian_prob(73, tempVmu, tempVsigma))\n",
        "print(gaussian_prob(90, umFmu, umFsigma), gaussian_prob(90, umVmu, umVsigma))"
      ],
      "execution_count": null,
      "outputs": [
        {
          "output_type": "stream",
          "text": [
            "0.04951572453448171 0.06471698367586758\n",
            "0.037986049936266336 0.022127532669816825\n"
          ],
          "name": "stdout"
        }
      ]
    },
    {
      "cell_type": "markdown",
      "metadata": {
        "id": "7-wr3-zBNvfk"
      },
      "source": [
        "Agora, podemos estimar os demais valores:\n",
        "\n",
        "\\begin{align}\n",
        "P(I|jogar = V) P(jogar = V) &= P(ceu = ensolarado~|~jogar = V) \\\\\n",
        "&\\times P(temp = 73~|~jogar = V) \\\\\n",
        "&\\times P(umidade = 90~|~jogar = V) \\\\\n",
        "&\\times P(vento = true~|~jogar = V)~P(jogar = V) \\\\\n",
        "&= 0.25 \\times 0.33 \\times 0.065 \\times 0.022 \\times 0.625 \\\\\n",
        "&= 7.3734375e-05\n",
        "\\end{align}\n",
        "\n",
        "\\begin{align}\n",
        "P(I|jogar = F) P(jogar = F) &= P(ceu = ensolarado~|~jogar = F) \\\\\n",
        "&\\times P(temp = 73~|~jogar = F) \\\\\n",
        "&\\times P(umidade = 90~|~jogar = F) \\\\\n",
        "&\\times P(vento = true~|~jogar = F)~P(jogar = F) \\\\\n",
        "&= 0.50 \\times 0.25 \\times 0.049 \\times 0.038 \\times 0.375 \\\\\n",
        "&= 8.728125e-05\n",
        "\\end{align}\n",
        "\n",
        "Como podemos ver $P(I|jogar=V) \\approx \\frac{7.3734375e-05}{7.3734375e-05+8.728125e-05} = 0.46$ < $P(I|jogar=F) \\approx \\frac{8.728125e-05}{7.3734375e-05+8.728125e-05} = 0.54$. Logo, dado $I$, é mais provável que _não_ haja jogo."
      ]
    },
    {
      "cell_type": "markdown",
      "metadata": {
        "id": "2x7_ZKOfNvfk"
      },
      "source": [
        "#### Naive Bayes e hiperplanos de separação\n",
        "\n",
        "Imagine que gostaríamos de separar SPAM de HAM usando NB. Em particular, temos que tomar uma decisão relacionada com a mensagem `gratis gratis clique aqui aqui aqui`. Sem vetorização, podemos tratar cada palavra como um atributo e resolver a decisão:\n",
        "\n",
        "$P(SPAM) P(gratis|SPAM) P(gratis|SPAM) P(clique|SPAM) P(aqui|SPAM) P(aqui|SPAM) P(aqui|SPAM) >\n",
        "P(HAM) P(gratis|HAM) P(gratis|HAM) P(clique|HAM) P(aqui|HAM) P(aqui|HAM) P(aqui|HAM)$?\n",
        "\n",
        "Isto equivale a:\n",
        "\n",
        "$\n",
        "=\\log P(SPAM) + \\log P(gratis|SPAM) + \\log P(gratis|SPAM) + \\log P(clique|SPAM) + \\log P(aqui|SPAM) + \\log P(aqui|SPAM) + \\log P(aqui|SPAM) >\n",
        "\\log P(HAM)  + \\log P(gratis|HAM) + \\log P(gratis|HAM) + \\log P(clique|HAM) + \\log P(aqui|HAM) + \\log P(aqui|HAM) + \\log P(aqui|HAM)\\\\\n",
        "= \\log P(SPAM) + 2 \\log P(gratis|SPAM) + \\log P(clique|SPAM) + 3 \\log P(aqui|SPAM) > \\log P(HAM) + 2 \\log P(gratis|HAM) + \\log P(clique|HAM) + 3 \\log P(aqui|HAM) \\\\\n",
        "= 2 (\\log P(gratis|SPAM) - \\log P(gratis|HAM)) + (\\log P(clique|SPAM) - \\log P(clique|HAM)) + 3 (\\log P(aqui|SPAM) - \\log P(aqui|HAM)) + \\log P(SPAM) - \\log P(HAM) > 0 \n",
        "$ \n",
        "\n",
        "Com ${\\bf w} = \\begin{pmatrix} 2\\\\ 1\\\\ 3 \\end{pmatrix}$, ${\\bf x} = \\begin{pmatrix} x_0~x_1~x_2 \\end{pmatrix}$, onde $x_i = \\log P(x_i|SPAM) - \\log P(x_i|HAM)$ e $b = \\log P(SPAM) - \\log P(HAM)$, observamos que a decisão do Naive Bayes corresponde a encontrar um plano de separação linear:\n",
        "\n",
        "${\\bf w} \\dot~{\\bf x} + b > 0$"
      ]
    },
    {
      "cell_type": "markdown",
      "metadata": {
        "id": "AlxQ3HYNNvfk"
      },
      "source": [
        "#### Conclusões\n",
        "\n",
        "Método linear baseado em toeria de decisão Bayesiana. Aspectos fundamentais sobre o Naive Bayes:\n",
        "\n",
        "* Método naturalmente incremental, já que dada uma nova instância, não é preciso recalcular todas as probabilidades, mas apenas atualizar as que foram afetadas. Apropriado para aplicações online;\n",
        "* Aplicação direta da Teoria de Decisão Bayesiana e da Teoria de Risco Empírico;\n",
        "* Embora seja um método ok para classificação, não é muito bom como estimador (ou seja, embora possa até acertar as classes, suas estimativas de probabilidade não são as melhores);\n",
        "* Primeiro tratamento do problema como um problema de incerteza. No futuro, isto vai abrir caminho para, além da detecção de padrões, a sua geração;\n",
        "* Estimativas comumente empregadas para $P(x_i|y)$ incluem:\n",
        "    * _Gaussiana_ (vista antes): $P(x_i \\mid y) = \\frac{1}{\\sqrt{2\\pi\\sigma^2_y}} \\exp\\left(-\\frac{(x_i - \\mu_y)^2}{2\\sigma^2_y}\\right)$, com $\\sigma_y$ e $\\mu_y$ estimados via máxima verossimelhança.\n",
        "    * _Multinomial_: no caso de texto, é comum assumirmos que a entrada seque uma distribuição multinomial parametrizada por $\\theta_y = (\\theta_{y1},\\ldots,\\theta_{yn})$, para cada classe $y$, onde $n$ é o número de features (o tamanho do vocabulário) e $P(x_i \\mid y)$ á a probabilidade de $x_i$ aparecer em uma amostra pertencente a $y$. $\\theta_y$ é estimada como a verossimelhança máxima com suavização, ou seja, $\\hat{\\theta}_{yi} = \\frac{ N_{yi} + \\alpha}{N_y + \\alpha n}$, onde $N_{yi}$ é o número de vezes que $x_i$ aparece em uma amostra de $y_i$ (no treino), $N_y$ é o total de palavras vistas em $y_i$ (a soma de todos $N_{yi}$) e a $\\alpha$ é o incremento de suavização.\n",
        "    * _Bernoulli_: para casos em que assumimos que a entrada segue uma distribuição de Bernoulli. Nesses casos, os valores das features são binários e $P(x_i \\mid y) = P(i \\mid y) x_i + (1 - P(i \\mid y)) (1 - x_i)$, onde $i$ (0 ou 1) é o valor da feature $x_i$."
      ]
    },
    {
      "cell_type": "code",
      "metadata": {
        "id": "ilTOqAe3Qp5n"
      },
      "source": [
        ""
      ],
      "execution_count": null,
      "outputs": []
    }
  ]
}